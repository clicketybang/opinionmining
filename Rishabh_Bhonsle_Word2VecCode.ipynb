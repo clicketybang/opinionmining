{
  "nbformat": 4,
  "nbformat_minor": 0,
  "metadata": {
    "colab": {
      "name": "Word2Vec.ipynb",
      "provenance": [],
      "collapsed_sections": [
        "CyEZcBthzwcn",
        "NWjiMX5pO1uY",
        "dCnnSFZGC5Ob",
        "dPNJ7nwkx48q",
        "FMh02jbnT0p2",
        "XFFWkVsGXqcm",
        "XGPAcXCqQ8aP",
        "7OAp2yBZUk-J",
        "5TPbNlGniwop",
        "YFDvN7B3a2q9",
        "FfzRFYXZVxZH",
        "kS3EGQf-fAzz",
        "YKe7cSQLhjcv",
        "z3fJW7u2ty2z",
        "6ix7aF2aVXlD"
      ]
    },
    "kernelspec": {
      "name": "python3",
      "display_name": "Python 3"
    },
    "language_info": {
      "name": "python"
    }
  },
  "cells": [
    {
      "cell_type": "markdown",
      "metadata": {
        "id": "xlot3h2VtnVy"
      },
      "source": [
        "# Word2Vec"
      ]
    },
    {
      "cell_type": "markdown",
      "metadata": {
        "id": "CyEZcBthzwcn"
      },
      "source": [
        "## Building the Vocabulary"
      ]
    },
    {
      "cell_type": "markdown",
      "metadata": {
        "id": "NWjiMX5pO1uY"
      },
      "source": [
        "### Imports"
      ]
    },
    {
      "cell_type": "code",
      "metadata": {
        "id": "1NH9Nk9ByXkM",
        "colab": {
          "base_uri": "https://localhost:8080/"
        },
        "outputId": "9c8c1b0a-3e89-43fb-da7d-38ab33355c11"
      },
      "source": [
        "import xlrd\n",
        "import pandas as pd \n",
        "import sys\n",
        "import nltk\n",
        "nltk.download('wordnet')\n",
        "nltk.download('stopwords')\n",
        "nltk.download('punkt')\n",
        "from nltk.corpus import wordnet\n",
        "from nltk.corpus import wordnet as wn\n",
        "from nltk.corpus import stopwords\n",
        "from nltk.tokenize import sent_tokenize, word_tokenize\n",
        "import gensim\n",
        "from gensim.models import Word2Vec\n",
        "import gensim.downloader as api\n",
        "from nltk.tokenize import RegexpTokenizer\n",
        "import numpy as np\n",
        "\n",
        "\n",
        "from google.colab import drive\n",
        "drive.mount('/content/drive')"
      ],
      "execution_count": 1,
      "outputs": [
        {
          "output_type": "stream",
          "name": "stdout",
          "text": [
            "[nltk_data] Downloading package wordnet to /root/nltk_data...\n",
            "[nltk_data]   Unzipping corpora/wordnet.zip.\n",
            "[nltk_data] Downloading package stopwords to /root/nltk_data...\n",
            "[nltk_data]   Unzipping corpora/stopwords.zip.\n",
            "[nltk_data] Downloading package punkt to /root/nltk_data...\n",
            "[nltk_data]   Unzipping tokenizers/punkt.zip.\n",
            "Mounted at /content/drive\n"
          ]
        }
      ]
    },
    {
      "cell_type": "code",
      "metadata": {
        "colab": {
          "base_uri": "https://localhost:8080/"
        },
        "id": "dplHgtgCyvx7",
        "outputId": "197ce470-265e-4cf8-d7f9-8e22edf5a16c"
      },
      "source": [
        "f1 = (\"/content/drive/MyDrive/Colab Notebooks/Data/assignment3_data.xlsx\")\n",
        "wb = xlrd.open_workbook(f1)\n",
        "sheet_data = wb.sheet_by_index(0)\n",
        "\n",
        "PM_qual = []\n",
        "\n",
        "for i in range(1, sheet_data.nrows):\n",
        "  temp_txt = sheet_data.cell_value(i, 0).lower()\n",
        "  PM_qual.append(temp_txt)\n",
        "\n",
        "len(PM_qual)"
      ],
      "execution_count": 2,
      "outputs": [
        {
          "output_type": "execute_result",
          "data": {
            "text/plain": [
              "38"
            ]
          },
          "metadata": {},
          "execution_count": 2
        }
      ]
    },
    {
      "cell_type": "markdown",
      "metadata": {
        "id": "dCnnSFZGC5Ob"
      },
      "source": [
        "### Scoring"
      ]
    },
    {
      "cell_type": "code",
      "metadata": {
        "colab": {
          "base_uri": "https://localhost:8080/"
        },
        "id": "BYTuiGIZC4tP",
        "outputId": "ad8a7bb7-627b-4bdb-fe15-5caf985db2c3"
      },
      "source": [
        "f1 = (\"/content/drive/MyDrive/Colab Notebooks/Data/assignment3_gold_labels.xlsx\")\n",
        "wb = xlrd.open_workbook(f1)\n",
        "data = wb.sheet_by_index(0)\n",
        "\n",
        "actual_data = []\n",
        "\n",
        "for i in range(2, data.nrows):\n",
        "  temp_txt = data.cell_value(i, 0).lower()\n",
        "  actual_data.append(temp_txt)\n",
        "\n",
        "len(actual_data)"
      ],
      "execution_count": 3,
      "outputs": [
        {
          "output_type": "execute_result",
          "data": {
            "text/plain": [
              "10"
            ]
          },
          "metadata": {},
          "execution_count": 3
        }
      ]
    },
    {
      "cell_type": "code",
      "metadata": {
        "id": "Q0PiyvJIDC-H"
      },
      "source": [
        "tokenizer = RegexpTokenizer(\"[\\w']+\")\n",
        "\n",
        "actual_words = []\n",
        "for i in range(len(actual_data)):\n",
        "  text = actual_data[i]\n",
        "  tokens = tokenizer.tokenize(text)\n",
        "  for j in tokens:\n",
        "    syn = wn.synsets(j)\n",
        "\n",
        "    if syn!=[] and j not in stopwords.words('english'):\n",
        "      if j not in actual_words:\n",
        "          actual_words.append(j)"
      ],
      "execution_count": 4,
      "outputs": []
    },
    {
      "cell_type": "code",
      "metadata": {
        "id": "S78FrwAjDGrd"
      },
      "source": [
        "best_score = 0\n",
        "for i in actual_words:\n",
        "  for j in actual_words:\n",
        "    syn1 = wordnet.synsets(i)[0]\n",
        "    syn2 = wordnet.synsets(j)[0]\n",
        "    temp_sim = syn1.wup_similarity(syn2)\n",
        "    if temp_sim == None:\n",
        "      temp_sim = 0\n",
        "    best_score = best_score + temp_sim\n",
        "best_score = best_score/(len(actual_words)**2)"
      ],
      "execution_count": 5,
      "outputs": []
    },
    {
      "cell_type": "code",
      "metadata": {
        "id": "gRyBMTwODPSe"
      },
      "source": [
        "def score(predicted_words):\n",
        "  pred_score = 0\n",
        "  for i in actual_words:\n",
        "    for j in predicted_words:\n",
        "      syn1 = wordnet.synsets(i)[0]\n",
        "      syn2 = wordnet.synsets(j)[0]\n",
        "      temp_sim = syn1.wup_similarity(syn2)\n",
        "      if temp_sim == None:\n",
        "        temp_sim = 0\n",
        "      pred_score = pred_score + temp_sim\n",
        "  return (pred_score/(len(actual_words)*len(predicted_words)))/best_score"
      ],
      "execution_count": 6,
      "outputs": []
    },
    {
      "cell_type": "markdown",
      "metadata": {
        "id": "dPNJ7nwkx48q"
      },
      "source": [
        "### Pre-processing"
      ]
    },
    {
      "cell_type": "markdown",
      "metadata": {
        "id": "Jleyh1FwXJFJ"
      },
      "source": [
        "Could have added lemmatization here, but did not affect the dataset significantly which shows that almost all words were different."
      ]
    },
    {
      "cell_type": "code",
      "metadata": {
        "id": "XOY42n4U_UPF"
      },
      "source": [
        "data = []\n",
        "# iterate through each sentence in the file\n",
        "for sentence in PM_qual:\n",
        "    words = []    \n",
        "    for word in tokenizer.tokenize(sentence):\n",
        "      if word not in stopwords.words('english'):  # tokenize the sentence into words\n",
        "        words.append(word.lower()) \n",
        "    data.append(words)"
      ],
      "execution_count": 7,
      "outputs": []
    },
    {
      "cell_type": "code",
      "metadata": {
        "id": "U0Wdb5wLAlZ6"
      },
      "source": [
        "phrase =[]\n",
        "\n",
        "for sentence in data:\n",
        "  non_words = []\n",
        "  for i in range(len(sentence)-1):\n",
        "    t =  str(sentence[i]+'_'+sentence[i+ 1])\n",
        "    if wn.synsets(t) and t not in sentence:\n",
        "      sentence.append(t)\n",
        "      non_words.append(sentence[i])\n",
        "      non_words.append(sentence[i+1])\n",
        "  for j in non_words:\n",
        "    sentence.remove(j)"
      ],
      "execution_count": 8,
      "outputs": []
    },
    {
      "cell_type": "markdown",
      "metadata": {
        "id": "FMh02jbnT0p2"
      },
      "source": [
        "### Defining Functions for KMeans Trial"
      ]
    },
    {
      "cell_type": "code",
      "metadata": {
        "id": "1ryCOeDBQGy1"
      },
      "source": [
        "from sklearn.cluster import MiniBatchKMeans\n",
        "from sklearn.metrics import silhouette_samples, silhouette_score"
      ],
      "execution_count": 9,
      "outputs": []
    },
    {
      "cell_type": "markdown",
      "metadata": {
        "id": "dY1BmNhsUFNC"
      },
      "source": [
        "https://dylancastillo.co/nlp-snippets-cluster-documents-using-word2vec/"
      ]
    },
    {
      "cell_type": "code",
      "metadata": {
        "id": "HuBJE-3oT0Qc"
      },
      "source": [
        "def vectorize(list_of_docs, model):\n",
        "    \"\"\"Generate vectors for list of documents using a Word Embedding\n",
        "\n",
        "    Args:\n",
        "        list_of_docs: List of documents\n",
        "        model: Gensim's Word Embedding\n",
        "\n",
        "    Returns:\n",
        "        List of document vectors\n",
        "    \"\"\"\n",
        "    features = []\n",
        "\n",
        "    for tokens in list_of_docs:\n",
        "        zero_vector = np.zeros(model.vector_size)\n",
        "        vectors = []\n",
        "        for token in tokens:\n",
        "            if token in model.wv:\n",
        "                try:\n",
        "                    vectors.append(model.wv[token])\n",
        "                except KeyError:\n",
        "                    continue\n",
        "        if vectors:\n",
        "            vectors = np.asarray(vectors)\n",
        "            avg_vec = vectors.mean(axis=0)\n",
        "            features.append(avg_vec)\n",
        "        else:\n",
        "            features.append(zero_vector)\n",
        "    return features"
      ],
      "execution_count": 10,
      "outputs": []
    },
    {
      "cell_type": "code",
      "metadata": {
        "id": "u9FtPpXxPHTH"
      },
      "source": [
        "def mbkmeans_clusters(\n",
        "\tX, \n",
        "    k, \n",
        "    mb, \n",
        "    print_silhouette_values, \n",
        "):\n",
        "    \"\"\"Generate clusters and print Silhouette metrics using MBKmeans\n",
        "\n",
        "    Args:\n",
        "        X: Matrix of features.\n",
        "        k: Number of clusters.\n",
        "        mb: Size of mini-batches.\n",
        "        print_silhouette_values: Print silhouette values per cluster.\n",
        "\n",
        "    Returns:\n",
        "        Trained clustering model and labels based on X.\n",
        "    \"\"\"\n",
        "    km = MiniBatchKMeans(n_clusters=k, batch_size=mb).fit(X)\n",
        "    print(f\"For n_clusters = {k}\")\n",
        "    print(f\"Silhouette coefficient: {silhouette_score(X, km.labels_):0.2f}\")\n",
        "    print(f\"Inertia:{km.inertia_}\")\n",
        "\n",
        "    if print_silhouette_values:\n",
        "        sample_silhouette_values = silhouette_samples(X, km.labels_)\n",
        "        print(f\"Silhouette values:\")\n",
        "        silhouette_values = []\n",
        "        for i in range(k):\n",
        "            cluster_silhouette_values = sample_silhouette_values[km.labels_ == i]\n",
        "            silhouette_values.append(\n",
        "                (\n",
        "                    i,\n",
        "                    cluster_silhouette_values.shape[0],\n",
        "                    cluster_silhouette_values.mean(),\n",
        "                    cluster_silhouette_values.min(),\n",
        "                    cluster_silhouette_values.max(),\n",
        "                )\n",
        "            )\n",
        "        silhouette_values = sorted(\n",
        "            silhouette_values, key=lambda tup: tup[2], reverse=True\n",
        "        )\n",
        "        for s in silhouette_values:\n",
        "            print(\n",
        "                f\"    Cluster {s[0]}: Size:{s[1]} | Avg:{s[2]:.2f} | Min:{s[3]:.2f} | Max: {s[4]:.2f}\"\n",
        "            )\n",
        "    return km, km.labels_"
      ],
      "execution_count": 11,
      "outputs": []
    },
    {
      "cell_type": "markdown",
      "metadata": {
        "id": "XFFWkVsGXqcm"
      },
      "source": [
        "## Model A"
      ]
    },
    {
      "cell_type": "code",
      "metadata": {
        "id": "d4yBQFZrG0-H"
      },
      "source": [
        "model1 = gensim.models.Word2Vec(data, min_count = 1, window = 30, sg = 0)"
      ],
      "execution_count": 12,
      "outputs": []
    },
    {
      "cell_type": "markdown",
      "metadata": {
        "id": "XGPAcXCqQ8aP"
      },
      "source": [
        "### Experiment A1 - simply associating words related to the word \"qualities\""
      ]
    },
    {
      "cell_type": "code",
      "metadata": {
        "id": "v3b-oTZpG075"
      },
      "source": [
        "simple_list = list(model1.wv.most_similar('qualities', topn=10))"
      ],
      "execution_count": 13,
      "outputs": []
    },
    {
      "cell_type": "code",
      "metadata": {
        "colab": {
          "base_uri": "https://localhost:8080/"
        },
        "id": "iKMezScXnfXZ",
        "outputId": "5961a7a7-fda9-424c-e455-f94d87538a1c"
      },
      "source": [
        "simple_list"
      ],
      "execution_count": 14,
      "outputs": [
        {
          "output_type": "execute_result",
          "data": {
            "text/plain": [
              "[('kindness', 0.22251810133457184),\n",
              " ('understanding', 0.20999625325202942),\n",
              " ('polite', 0.1904253363609314),\n",
              " ('exceptionally', 0.18115949630737305),\n",
              " ('systems', 0.17610587179660797),\n",
              " ('compassion', 0.16027334332466125),\n",
              " ('president', 0.15612711012363434),\n",
              " ('course', 0.15486463904380798),\n",
              " ('people', 0.15219995379447937),\n",
              " ('management', 0.14876441657543182)]"
            ]
          },
          "metadata": {},
          "execution_count": 14
        }
      ]
    },
    {
      "cell_type": "code",
      "metadata": {
        "colab": {
          "base_uri": "https://localhost:8080/"
        },
        "id": "pGPbOKPIUye8",
        "outputId": "80feedc1-019b-4b40-d6ed-86df5ba62825"
      },
      "source": [
        "predicted_words = []\n",
        "for i in range(10):\n",
        "  predicted_words.append(simple_list[i][0])\n",
        "score(predicted_words)"
      ],
      "execution_count": null,
      "outputs": [
        {
          "output_type": "execute_result",
          "data": {
            "text/plain": [
              "0.6852536130699876"
            ]
          },
          "metadata": {},
          "execution_count": 21
        }
      ]
    },
    {
      "cell_type": "markdown",
      "metadata": {
        "id": "7OAp2yBZUk-J"
      },
      "source": [
        "### Experiment A2 - KMeans"
      ]
    },
    {
      "cell_type": "code",
      "metadata": {
        "colab": {
          "base_uri": "https://localhost:8080/"
        },
        "id": "IH82SaCTPG9z",
        "outputId": "28129ae0-7769-4310-f4ae-45a5c7828dde"
      },
      "source": [
        "X = model1[model1.wv.vocab]\n",
        "vectorized_docs = vectorize(data, model=model1)\n",
        "\n",
        "clustering, cluster_labels = mbkmeans_clusters(\n",
        "\tX=vectorized_docs,\n",
        "    k=7,\n",
        "    mb=500,\n",
        "    print_silhouette_values=True,\n",
        ")\n",
        "df_clusters = pd.DataFrame({\n",
        "    #\"text\": docs,\n",
        "    \"tokens\": [\" \".join(text) for text in data]\n",
        "    #\"cluster\": cluster_labels\n",
        "})"
      ],
      "execution_count": null,
      "outputs": [
        {
          "output_type": "stream",
          "name": "stdout",
          "text": [
            "For n_clusters = 7\n",
            "Silhouette coefficient: 0.07\n",
            "Inertia:0.0061209110723436716\n",
            "Silhouette values:\n",
            "    Cluster 2: Size:2 | Avg:0.45 | Min:0.45 | Max: 0.45\n",
            "    Cluster 5: Size:2 | Avg:0.12 | Min:0.01 | Max: 0.22\n",
            "    Cluster 3: Size:29 | Avg:0.05 | Min:-0.12 | Max: 0.18\n",
            "    Cluster 0: Size:1 | Avg:0.00 | Min:0.00 | Max: 0.00\n",
            "    Cluster 1: Size:1 | Avg:0.00 | Min:0.00 | Max: 0.00\n",
            "    Cluster 6: Size:1 | Avg:0.00 | Min:0.00 | Max: 0.00\n",
            "    Cluster 4: Size:2 | Avg:-0.01 | Min:-0.05 | Max: 0.03\n"
          ]
        },
        {
          "output_type": "stream",
          "name": "stderr",
          "text": [
            "/usr/local/lib/python3.7/dist-packages/ipykernel_launcher.py:1: DeprecationWarning: Call to deprecated `__getitem__` (Method will be removed in 4.0.0, use self.wv.__getitem__() instead).\n",
            "  \"\"\"Entry point for launching an IPython kernel.\n"
          ]
        }
      ]
    },
    {
      "cell_type": "code",
      "metadata": {
        "colab": {
          "base_uri": "https://localhost:8080/"
        },
        "id": "cNKQevV0Punu",
        "outputId": "94fe5a39-5c7e-45c3-f204-4210b29b43e1"
      },
      "source": [
        "print(\"Most representative terms per cluster (based on centroids):\")\n",
        "tokens_per_cluster = \"\"\n",
        "most_representative = model1.wv.most_similar(positive=[clustering.cluster_centers_[1]], topn=10)\n",
        "for t in most_representative:\n",
        "  tokens_per_cluster += f\"{t[0]} \"\n",
        "print(f\"Cluster {1}: {tokens_per_cluster}\")"
      ],
      "execution_count": null,
      "outputs": [
        {
          "output_type": "stream",
          "name": "stdout",
          "text": [
            "Most representative terms per cluster (based on centroids):\n",
            "Cluster 1: good character born run mature leader idiot equality prejudice bravery \n"
          ]
        }
      ]
    },
    {
      "cell_type": "code",
      "metadata": {
        "colab": {
          "base_uri": "https://localhost:8080/"
        },
        "id": "_70UAGopSA8V",
        "outputId": "313de839-6ca2-40d7-8bca-089fa0e5b6a9"
      },
      "source": [
        "predicted_words = []\n",
        "model_1_words = tokenizer.tokenize(tokens_per_cluster)\n",
        "for i in range(10):\n",
        "  predicted_words.append(model_1_words[0])\n",
        "score(predicted_words)"
      ],
      "execution_count": null,
      "outputs": [
        {
          "output_type": "execute_result",
          "data": {
            "text/plain": [
              "0.9631362409433815"
            ]
          },
          "metadata": {},
          "execution_count": 27
        }
      ]
    },
    {
      "cell_type": "markdown",
      "metadata": {
        "id": "5TPbNlGniwop"
      },
      "source": [
        "## Model B"
      ]
    },
    {
      "cell_type": "code",
      "metadata": {
        "colab": {
          "base_uri": "https://localhost:8080/"
        },
        "id": "_W2fUS31rAy8",
        "outputId": "f1082bf6-b843-4e88-926c-0cea1d56002e"
      },
      "source": [
        "model2 = api.load(\"glove-wiki-gigaword-100\")"
      ],
      "execution_count": null,
      "outputs": [
        {
          "output_type": "stream",
          "name": "stdout",
          "text": [
            "[==================================================] 100.0% 128.1/128.1MB downloaded\n"
          ]
        }
      ]
    },
    {
      "cell_type": "markdown",
      "metadata": {
        "id": "YFDvN7B3a2q9"
      },
      "source": [
        "### Expermient B1 - Simply associating words related to the word \"quality\""
      ]
    },
    {
      "cell_type": "code",
      "metadata": {
        "colab": {
          "base_uri": "https://localhost:8080/"
        },
        "id": "6vkO5MwAVl6Z",
        "outputId": "fdb48cca-7901-4efa-ba9b-4b1bf6942695"
      },
      "source": [
        "simple_list = list(model2.wv.most_similar('qualities', topn=100))\n",
        "\n",
        "pred_list = []\n",
        "for i in simple_list:\n",
        "  for sentence in data:\n",
        "    for word in sentence:\n",
        "      if i[0] == word and i[0] not in pred_list:\n",
        "        pred_list.append(i[0])\n",
        "\n",
        "pred_list = pred_list[:10]"
      ],
      "execution_count": null,
      "outputs": [
        {
          "output_type": "stream",
          "name": "stderr",
          "text": [
            "/usr/local/lib/python3.7/dist-packages/ipykernel_launcher.py:1: DeprecationWarning: Call to deprecated `wv` (Attribute will be removed in 4.0.0, use self instead).\n",
            "  \"\"\"Entry point for launching an IPython kernel.\n"
          ]
        }
      ]
    },
    {
      "cell_type": "code",
      "metadata": {
        "colab": {
          "base_uri": "https://localhost:8080/"
        },
        "id": "c3ym0THkaxZw",
        "outputId": "3523e67b-320b-4b29-e4bd-d86fda5a4e7b"
      },
      "source": [
        "pred_list"
      ],
      "execution_count": null,
      "outputs": [
        {
          "output_type": "execute_result",
          "data": {
            "text/plain": [
              "['skills',\n",
              " 'ability',\n",
              " 'experience',\n",
              " 'empathy',\n",
              " 'honesty',\n",
              " 'passion',\n",
              " 'humility',\n",
              " 'bravery',\n",
              " 'knowledge',\n",
              " 'determination']"
            ]
          },
          "metadata": {},
          "execution_count": 66
        }
      ]
    },
    {
      "cell_type": "code",
      "metadata": {
        "colab": {
          "base_uri": "https://localhost:8080/"
        },
        "id": "cSCgs3SJZEmp",
        "outputId": "342ff528-684d-4eb3-ec7c-083ff0f85c76"
      },
      "source": [
        "predicted_words = []\n",
        "for i in range(10):\n",
        "  predicted_words.append(pred_list[i])\n",
        "score(predicted_words)"
      ],
      "execution_count": null,
      "outputs": [
        {
          "output_type": "execute_result",
          "data": {
            "text/plain": [
              "1.1945283950116705"
            ]
          },
          "metadata": {},
          "execution_count": 65
        }
      ]
    },
    {
      "cell_type": "markdown",
      "metadata": {
        "id": "FfzRFYXZVxZH"
      },
      "source": [
        "### Experiment B2 - similarity b/w ques data and vocab words"
      ]
    },
    {
      "cell_type": "code",
      "metadata": {
        "id": "XRqgTKj5Vw6K"
      },
      "source": [
        "ques = sheet_data.cell_value(0, 0).lower()"
      ],
      "execution_count": null,
      "outputs": []
    },
    {
      "cell_type": "code",
      "metadata": {
        "id": "Aqm_EiuCY1E1"
      },
      "source": [
        "ques_tokens = []\n",
        "\n",
        "for i in tokenizer.tokenize(ques):\n",
        "  syn = wn.synsets(i)\n",
        "  if i not in stopwords.words('english') and syn[0].pos() in ['n','a','s']:\n",
        "    ques_tokens.append(i)\n",
        "\n",
        "for i in range(len(ques_tokens)-1):\n",
        "  t = str(ques_tokens[i]+'_'+ques_tokens[i+1])\n",
        "  if wn.synsets(t):\n",
        "    ques_tokens.append(t)"
      ],
      "execution_count": null,
      "outputs": []
    },
    {
      "cell_type": "code",
      "metadata": {
        "id": "4F3h5o31eH8X"
      },
      "source": [
        "word_list = []\n",
        "for sentence in data:\n",
        "  for word in sentence:\n",
        "    syn = wn.synsets(word)\n",
        "    if syn and word not in word_list and word not in stopwords.words('english') and syn[0].pos() in ['n','a','s']:\n",
        "      word_list.append(word)"
      ],
      "execution_count": null,
      "outputs": []
    },
    {
      "cell_type": "code",
      "metadata": {
        "colab": {
          "base_uri": "https://localhost:8080/"
        },
        "id": "6dNE-yliVwx_",
        "outputId": "dc1241b6-6d3c-46cb-8d16-32c7ae3e222d"
      },
      "source": [
        "sim_score_list = []\n",
        "for word in word_list:\n",
        "    t = 0\n",
        "    for token in ques_tokens:\n",
        "      if word in model2.vocab and token in model2.vocab:\n",
        "        t = t + model2.wv.similarity(w1 = word, w2 = token)\n",
        "    sim_score_list.append([word,t/len(ques_tokens)])\n",
        "\n",
        "sorted_sim_scores = sorted(sim_score_list, key = lambda x: x[1])\n",
        "sorted_sim_scores.reverse()"
      ],
      "execution_count": null,
      "outputs": [
        {
          "output_type": "stream",
          "name": "stderr",
          "text": [
            "/usr/local/lib/python3.7/dist-packages/ipykernel_launcher.py:6: DeprecationWarning: Call to deprecated `wv` (Attribute will be removed in 4.0.0, use self instead).\n",
            "  \n"
          ]
        }
      ]
    },
    {
      "cell_type": "code",
      "metadata": {
        "colab": {
          "base_uri": "https://localhost:8080/"
        },
        "id": "RY_Rqia7b9Kb",
        "outputId": "d7c0f198-5c4e-4933-aad7-a781b393b851"
      },
      "source": [
        "predicted_words = []\n",
        "for i in range(10):\n",
        "  predicted_words.append(sorted_sim_scores[i][0])\n",
        "\n",
        "score(predicted_words)"
      ],
      "execution_count": null,
      "outputs": [
        {
          "output_type": "execute_result",
          "data": {
            "text/plain": [
              "0.8388161606401232"
            ]
          },
          "metadata": {},
          "execution_count": 77
        }
      ]
    },
    {
      "cell_type": "code",
      "metadata": {
        "colab": {
          "base_uri": "https://localhost:8080/",
          "height": 357
        },
        "id": "XbGdZrS0VwvW",
        "outputId": "f05eec9c-92a9-402e-f49b-82a7b53b3eef"
      },
      "source": [
        "pd.DataFrame(sorted_sim_scores, columns =['word', 'sim score']).head(10)"
      ],
      "execution_count": null,
      "outputs": [
        {
          "output_type": "execute_result",
          "data": {
            "text/html": [
              "<div>\n",
              "<style scoped>\n",
              "    .dataframe tbody tr th:only-of-type {\n",
              "        vertical-align: middle;\n",
              "    }\n",
              "\n",
              "    .dataframe tbody tr th {\n",
              "        vertical-align: top;\n",
              "    }\n",
              "\n",
              "    .dataframe thead th {\n",
              "        text-align: right;\n",
              "    }\n",
              "</style>\n",
              "<table border=\"1\" class=\"dataframe\">\n",
              "  <thead>\n",
              "    <tr style=\"text-align: right;\">\n",
              "      <th></th>\n",
              "      <th>word</th>\n",
              "      <th>sim score</th>\n",
              "    </tr>\n",
              "  </thead>\n",
              "  <tbody>\n",
              "    <tr>\n",
              "      <th>0</th>\n",
              "      <td>well</td>\n",
              "      <td>0.444672</td>\n",
              "    </tr>\n",
              "    <tr>\n",
              "      <th>1</th>\n",
              "      <td>must</td>\n",
              "      <td>0.438611</td>\n",
              "    </tr>\n",
              "    <tr>\n",
              "      <th>2</th>\n",
              "      <td>good</td>\n",
              "      <td>0.430333</td>\n",
              "    </tr>\n",
              "    <tr>\n",
              "      <th>3</th>\n",
              "      <td>country</td>\n",
              "      <td>0.421318</td>\n",
              "    </tr>\n",
              "    <tr>\n",
              "      <th>4</th>\n",
              "      <td>leadership</td>\n",
              "      <td>0.412627</td>\n",
              "    </tr>\n",
              "    <tr>\n",
              "      <th>5</th>\n",
              "      <td>sure</td>\n",
              "      <td>0.411185</td>\n",
              "    </tr>\n",
              "    <tr>\n",
              "      <th>6</th>\n",
              "      <td>making</td>\n",
              "      <td>0.407892</td>\n",
              "    </tr>\n",
              "    <tr>\n",
              "      <th>7</th>\n",
              "      <td>think</td>\n",
              "      <td>0.407853</td>\n",
              "    </tr>\n",
              "    <tr>\n",
              "      <th>8</th>\n",
              "      <td>time</td>\n",
              "      <td>0.405538</td>\n",
              "    </tr>\n",
              "    <tr>\n",
              "      <th>9</th>\n",
              "      <td>hard</td>\n",
              "      <td>0.401611</td>\n",
              "    </tr>\n",
              "  </tbody>\n",
              "</table>\n",
              "</div>"
            ],
            "text/plain": [
              "         word  sim score\n",
              "0        well   0.444672\n",
              "1        must   0.438611\n",
              "2        good   0.430333\n",
              "3     country   0.421318\n",
              "4  leadership   0.412627\n",
              "5        sure   0.411185\n",
              "6      making   0.407892\n",
              "7       think   0.407853\n",
              "8        time   0.405538\n",
              "9        hard   0.401611"
            ]
          },
          "metadata": {},
          "execution_count": 75
        }
      ]
    },
    {
      "cell_type": "code",
      "metadata": {
        "colab": {
          "base_uri": "https://localhost:8080/",
          "height": 357
        },
        "id": "z7uTgxOfb1jO",
        "outputId": "53759da2-f818-4aaf-e878-758342ac504a"
      },
      "source": [
        "pd.DataFrame(sorted_sim_scores, columns =['word', 'sim score']).tail(10)"
      ],
      "execution_count": null,
      "outputs": [
        {
          "output_type": "execute_result",
          "data": {
            "text/html": [
              "<div>\n",
              "<style scoped>\n",
              "    .dataframe tbody tr th:only-of-type {\n",
              "        vertical-align: middle;\n",
              "    }\n",
              "\n",
              "    .dataframe tbody tr th {\n",
              "        vertical-align: top;\n",
              "    }\n",
              "\n",
              "    .dataframe thead th {\n",
              "        text-align: right;\n",
              "    }\n",
              "</style>\n",
              "<table border=\"1\" class=\"dataframe\">\n",
              "  <thead>\n",
              "    <tr style=\"text-align: right;\">\n",
              "      <th></th>\n",
              "      <th>word</th>\n",
              "      <th>sim score</th>\n",
              "    </tr>\n",
              "  </thead>\n",
              "  <tbody>\n",
              "    <tr>\n",
              "      <th>105</th>\n",
              "      <td>decisiveness</td>\n",
              "      <td>0.090159</td>\n",
              "    </tr>\n",
              "    <tr>\n",
              "      <th>106</th>\n",
              "      <td>sociology</td>\n",
              "      <td>0.086880</td>\n",
              "    </tr>\n",
              "    <tr>\n",
              "      <th>107</th>\n",
              "      <td>idiot</td>\n",
              "      <td>0.083248</td>\n",
              "    </tr>\n",
              "    <tr>\n",
              "      <th>108</th>\n",
              "      <td>prejudices</td>\n",
              "      <td>0.082516</td>\n",
              "    </tr>\n",
              "    <tr>\n",
              "      <th>109</th>\n",
              "      <td>underprivileged</td>\n",
              "      <td>0.064474</td>\n",
              "    </tr>\n",
              "    <tr>\n",
              "      <th>110</th>\n",
              "      <td>approachable</td>\n",
              "      <td>0.047592</td>\n",
              "    </tr>\n",
              "    <tr>\n",
              "      <th>111</th>\n",
              "      <td>trustworthiness</td>\n",
              "      <td>0.039461</td>\n",
              "    </tr>\n",
              "    <tr>\n",
              "      <th>112</th>\n",
              "      <td>ulterior</td>\n",
              "      <td>0.037450</td>\n",
              "    </tr>\n",
              "    <tr>\n",
              "      <th>113</th>\n",
              "      <td>problem_solving</td>\n",
              "      <td>0.000000</td>\n",
              "    </tr>\n",
              "    <tr>\n",
              "      <th>114</th>\n",
              "      <td>common_sense</td>\n",
              "      <td>0.000000</td>\n",
              "    </tr>\n",
              "  </tbody>\n",
              "</table>\n",
              "</div>"
            ],
            "text/plain": [
              "                word  sim score\n",
              "105     decisiveness   0.090159\n",
              "106        sociology   0.086880\n",
              "107            idiot   0.083248\n",
              "108       prejudices   0.082516\n",
              "109  underprivileged   0.064474\n",
              "110     approachable   0.047592\n",
              "111  trustworthiness   0.039461\n",
              "112         ulterior   0.037450\n",
              "113  problem_solving   0.000000\n",
              "114     common_sense   0.000000"
            ]
          },
          "metadata": {},
          "execution_count": 76
        }
      ]
    },
    {
      "cell_type": "markdown",
      "metadata": {
        "id": "kS3EGQf-fAzz"
      },
      "source": [
        "### Experiment B3 - repeating above with expanded vocab - top 10 similar words of each word in question and in data vocab"
      ]
    },
    {
      "cell_type": "code",
      "metadata": {
        "colab": {
          "base_uri": "https://localhost:8080/"
        },
        "id": "8Bw-cOE0fATv",
        "outputId": "498dfefe-cc6c-4c39-f7ea-c5ff5b14cff2"
      },
      "source": [
        "sim_word_list = []\n",
        "\n",
        "for word in word_list:\n",
        "  if word in model2.vocab:\n",
        "    t = []\n",
        "    for i in model2.wv.most_similar(word,topn=10):\n",
        "      if i not in stopwords.words('english'):\n",
        "        t.append(i[0])\n",
        "    sim_word_list.append([word, *t])"
      ],
      "execution_count": null,
      "outputs": [
        {
          "output_type": "stream",
          "name": "stderr",
          "text": [
            "/usr/local/lib/python3.7/dist-packages/ipykernel_launcher.py:6: DeprecationWarning: Call to deprecated `wv` (Attribute will be removed in 4.0.0, use self instead).\n",
            "  \n"
          ]
        }
      ]
    },
    {
      "cell_type": "code",
      "metadata": {
        "colab": {
          "base_uri": "https://localhost:8080/"
        },
        "id": "DJ3wHFJGfAOU",
        "outputId": "93757da7-b6ab-46f3-a8b6-634954b86d85"
      },
      "source": [
        "sim_ques_list = []\n",
        "for word in ques_tokens:\n",
        "  if word in model2.vocab:\n",
        "    t = []\n",
        "    for i in model2.wv.most_similar(word,topn=10):\n",
        "      if i not in stopwords.words('english'):\n",
        "        t.append(i[0])\n",
        "    sim_ques_list.append([word, *t])"
      ],
      "execution_count": null,
      "outputs": [
        {
          "output_type": "stream",
          "name": "stderr",
          "text": [
            "/usr/local/lib/python3.7/dist-packages/ipykernel_launcher.py:5: DeprecationWarning: Call to deprecated `wv` (Attribute will be removed in 4.0.0, use self instead).\n",
            "  \"\"\"\n"
          ]
        }
      ]
    },
    {
      "cell_type": "code",
      "metadata": {
        "colab": {
          "base_uri": "https://localhost:8080/"
        },
        "id": "rinCB3DofALk",
        "outputId": "74fd39ad-935e-49b4-d5e0-15ab8664cab2"
      },
      "source": [
        "ext_sim_score_list = []\n",
        "for i in sim_word_list:\n",
        "  t = 0\n",
        "  for j in i:\n",
        "    for k in sim_ques_list:\n",
        "      for l in k:\n",
        "        t = t + model2.wv.similarity(w1 = j, w2 = l)\n",
        "  ext_sim_score_list.append([i[0],t/(len(i)*len(sim_ques_list)*len(k))])\n",
        "\n",
        "sorted_ext_sim_scores = sorted(ext_sim_score_list, key = lambda x: x[1])\n",
        "sorted_ext_sim_scores.reverse()"
      ],
      "execution_count": null,
      "outputs": [
        {
          "output_type": "stream",
          "name": "stderr",
          "text": [
            "/usr/local/lib/python3.7/dist-packages/ipykernel_launcher.py:7: DeprecationWarning: Call to deprecated `wv` (Attribute will be removed in 4.0.0, use self instead).\n",
            "  import sys\n"
          ]
        }
      ]
    },
    {
      "cell_type": "code",
      "metadata": {
        "colab": {
          "base_uri": "https://localhost:8080/"
        },
        "id": "1vrf6ZrSm8tI",
        "outputId": "95f7b62d-e4ca-4f08-fbe5-6b8b9acabe53"
      },
      "source": [
        "predicted_words = []\n",
        "for i in range(10):\n",
        "  predicted_words.append(sorted_ext_sim_scores[i][0])\n",
        "\n",
        "score(predicted_words)"
      ],
      "execution_count": null,
      "outputs": [
        {
          "output_type": "execute_result",
          "data": {
            "text/plain": [
              "0.7240026123071596"
            ]
          },
          "metadata": {},
          "execution_count": 85
        }
      ]
    },
    {
      "cell_type": "code",
      "metadata": {
        "colab": {
          "base_uri": "https://localhost:8080/",
          "height": 357
        },
        "id": "LgNyZOTgdblO",
        "outputId": "70cace33-9694-4d4f-8602-253b60d66aed"
      },
      "source": [
        "pd.DataFrame(sorted_ext_sim_scores, columns =['word', 'sim score']).head(10)"
      ],
      "execution_count": null,
      "outputs": [
        {
          "output_type": "execute_result",
          "data": {
            "text/html": [
              "<div>\n",
              "<style scoped>\n",
              "    .dataframe tbody tr th:only-of-type {\n",
              "        vertical-align: middle;\n",
              "    }\n",
              "\n",
              "    .dataframe tbody tr th {\n",
              "        vertical-align: top;\n",
              "    }\n",
              "\n",
              "    .dataframe thead th {\n",
              "        text-align: right;\n",
              "    }\n",
              "</style>\n",
              "<table border=\"1\" class=\"dataframe\">\n",
              "  <thead>\n",
              "    <tr style=\"text-align: right;\">\n",
              "      <th></th>\n",
              "      <th>word</th>\n",
              "      <th>sim score</th>\n",
              "    </tr>\n",
              "  </thead>\n",
              "  <tbody>\n",
              "    <tr>\n",
              "      <th>0</th>\n",
              "      <td>must</td>\n",
              "      <td>0.473679</td>\n",
              "    </tr>\n",
              "    <tr>\n",
              "      <th>1</th>\n",
              "      <td>well</td>\n",
              "      <td>0.458662</td>\n",
              "    </tr>\n",
              "    <tr>\n",
              "      <th>2</th>\n",
              "      <td>able</td>\n",
              "      <td>0.453295</td>\n",
              "    </tr>\n",
              "    <tr>\n",
              "      <th>3</th>\n",
              "      <td>making</td>\n",
              "      <td>0.446890</td>\n",
              "    </tr>\n",
              "    <tr>\n",
              "      <th>4</th>\n",
              "      <td>time</td>\n",
              "      <td>0.436441</td>\n",
              "    </tr>\n",
              "    <tr>\n",
              "      <th>5</th>\n",
              "      <td>good</td>\n",
              "      <td>0.434484</td>\n",
              "    </tr>\n",
              "    <tr>\n",
              "      <th>6</th>\n",
              "      <td>work</td>\n",
              "      <td>0.430493</td>\n",
              "    </tr>\n",
              "    <tr>\n",
              "      <th>7</th>\n",
              "      <td>working</td>\n",
              "      <td>0.428832</td>\n",
              "    </tr>\n",
              "    <tr>\n",
              "      <th>8</th>\n",
              "      <td>together</td>\n",
              "      <td>0.428684</td>\n",
              "    </tr>\n",
              "    <tr>\n",
              "      <th>9</th>\n",
              "      <td>sure</td>\n",
              "      <td>0.428365</td>\n",
              "    </tr>\n",
              "  </tbody>\n",
              "</table>\n",
              "</div>"
            ],
            "text/plain": [
              "       word  sim score\n",
              "0      must   0.473679\n",
              "1      well   0.458662\n",
              "2      able   0.453295\n",
              "3    making   0.446890\n",
              "4      time   0.436441\n",
              "5      good   0.434484\n",
              "6      work   0.430493\n",
              "7   working   0.428832\n",
              "8  together   0.428684\n",
              "9      sure   0.428365"
            ]
          },
          "metadata": {},
          "execution_count": 86
        }
      ]
    },
    {
      "cell_type": "code",
      "metadata": {
        "colab": {
          "base_uri": "https://localhost:8080/",
          "height": 357
        },
        "id": "SxiphSRPdiTz",
        "outputId": "ac4e62a8-e504-48d3-f3d0-bb8078fb207a"
      },
      "source": [
        "pd.DataFrame(sorted_ext_sim_scores, columns =['word', 'sim score']).tail(10)"
      ],
      "execution_count": null,
      "outputs": [
        {
          "output_type": "execute_result",
          "data": {
            "text/html": [
              "<div>\n",
              "<style scoped>\n",
              "    .dataframe tbody tr th:only-of-type {\n",
              "        vertical-align: middle;\n",
              "    }\n",
              "\n",
              "    .dataframe tbody tr th {\n",
              "        vertical-align: top;\n",
              "    }\n",
              "\n",
              "    .dataframe thead th {\n",
              "        text-align: right;\n",
              "    }\n",
              "</style>\n",
              "<table border=\"1\" class=\"dataframe\">\n",
              "  <thead>\n",
              "    <tr style=\"text-align: right;\">\n",
              "      <th></th>\n",
              "      <th>word</th>\n",
              "      <th>sim score</th>\n",
              "    </tr>\n",
              "  </thead>\n",
              "  <tbody>\n",
              "    <tr>\n",
              "      <th>103</th>\n",
              "      <td>eloquent</td>\n",
              "      <td>0.086578</td>\n",
              "    </tr>\n",
              "    <tr>\n",
              "      <th>104</th>\n",
              "      <td>agreeable</td>\n",
              "      <td>0.069391</td>\n",
              "    </tr>\n",
              "    <tr>\n",
              "      <th>105</th>\n",
              "      <td>selfless</td>\n",
              "      <td>0.068666</td>\n",
              "    </tr>\n",
              "    <tr>\n",
              "      <th>106</th>\n",
              "      <td>ulterior</td>\n",
              "      <td>0.058634</td>\n",
              "    </tr>\n",
              "    <tr>\n",
              "      <th>107</th>\n",
              "      <td>trustworthiness</td>\n",
              "      <td>0.047423</td>\n",
              "    </tr>\n",
              "    <tr>\n",
              "      <th>108</th>\n",
              "      <td>prejudices</td>\n",
              "      <td>0.045726</td>\n",
              "    </tr>\n",
              "    <tr>\n",
              "      <th>109</th>\n",
              "      <td>underprivileged</td>\n",
              "      <td>0.043557</td>\n",
              "    </tr>\n",
              "    <tr>\n",
              "      <th>110</th>\n",
              "      <td>decisiveness</td>\n",
              "      <td>0.040302</td>\n",
              "    </tr>\n",
              "    <tr>\n",
              "      <th>111</th>\n",
              "      <td>approachable</td>\n",
              "      <td>0.019465</td>\n",
              "    </tr>\n",
              "    <tr>\n",
              "      <th>112</th>\n",
              "      <td>idiot</td>\n",
              "      <td>0.007794</td>\n",
              "    </tr>\n",
              "  </tbody>\n",
              "</table>\n",
              "</div>"
            ],
            "text/plain": [
              "                word  sim score\n",
              "103         eloquent   0.086578\n",
              "104        agreeable   0.069391\n",
              "105         selfless   0.068666\n",
              "106         ulterior   0.058634\n",
              "107  trustworthiness   0.047423\n",
              "108       prejudices   0.045726\n",
              "109  underprivileged   0.043557\n",
              "110     decisiveness   0.040302\n",
              "111     approachable   0.019465\n",
              "112            idiot   0.007794"
            ]
          },
          "metadata": {},
          "execution_count": 87
        }
      ]
    },
    {
      "cell_type": "markdown",
      "metadata": {
        "id": "YKe7cSQLhjcv"
      },
      "source": [
        "### Experiment B4  - Finding the words in given data set that are most similar with other words and words similar ot those words (using model2) of the data set"
      ]
    },
    {
      "cell_type": "code",
      "metadata": {
        "colab": {
          "base_uri": "https://localhost:8080/"
        },
        "id": "4ULuOxpgnL1d",
        "outputId": "5b80c07b-ae4d-48dc-9694-311ce88fb9ba"
      },
      "source": [
        "ext_sim_score_list_2 = []\n",
        "for i in sim_word_list:\n",
        "  t = 0\n",
        "  for j in sim_word_list:\n",
        "    for k in j:\n",
        "      t = t + model2.wv.similarity(w1 = i[0], w2 = k)\n",
        "  ext_sim_score_list_2.append([i[0],t/(11*len(sim_word_list))])\n",
        "\n",
        "sorted_ext_sim_scores_2 = sorted(ext_sim_score_list_2, key = lambda x: x[1])\n",
        "sorted_ext_sim_scores_2.reverse()"
      ],
      "execution_count": null,
      "outputs": [
        {
          "output_type": "stream",
          "name": "stderr",
          "text": [
            "/usr/local/lib/python3.7/dist-packages/ipykernel_launcher.py:6: DeprecationWarning: Call to deprecated `wv` (Attribute will be removed in 4.0.0, use self instead).\n",
            "  \n"
          ]
        }
      ]
    },
    {
      "cell_type": "code",
      "metadata": {
        "colab": {
          "base_uri": "https://localhost:8080/"
        },
        "id": "BsY6QngzenV6",
        "outputId": "cf5e0b12-b3d2-42b3-e746-a0ffd500f146"
      },
      "source": [
        "predicted_words = []\n",
        "for i in range(10):\n",
        "  predicted_words.append(sorted_ext_sim_scores_2[i][0])\n",
        "\n",
        "score(predicted_words)"
      ],
      "execution_count": null,
      "outputs": [
        {
          "output_type": "execute_result",
          "data": {
            "text/plain": [
              "0.8749974263419144"
            ]
          },
          "metadata": {},
          "execution_count": 96
        }
      ]
    },
    {
      "cell_type": "code",
      "metadata": {
        "colab": {
          "base_uri": "https://localhost:8080/",
          "height": 357
        },
        "id": "m5VHC_L4ebP_",
        "outputId": "908aebce-d9c2-432b-effc-94c63c020ffd"
      },
      "source": [
        "pd.DataFrame(sorted_ext_sim_scores_2, columns =['word', 'sim score']).head(10)"
      ],
      "execution_count": null,
      "outputs": [
        {
          "output_type": "execute_result",
          "data": {
            "text/html": [
              "<div>\n",
              "<style scoped>\n",
              "    .dataframe tbody tr th:only-of-type {\n",
              "        vertical-align: middle;\n",
              "    }\n",
              "\n",
              "    .dataframe tbody tr th {\n",
              "        vertical-align: top;\n",
              "    }\n",
              "\n",
              "    .dataframe thead th {\n",
              "        text-align: right;\n",
              "    }\n",
              "</style>\n",
              "<table border=\"1\" class=\"dataframe\">\n",
              "  <thead>\n",
              "    <tr style=\"text-align: right;\">\n",
              "      <th></th>\n",
              "      <th>word</th>\n",
              "      <th>sim score</th>\n",
              "    </tr>\n",
              "  </thead>\n",
              "  <tbody>\n",
              "    <tr>\n",
              "      <th>0</th>\n",
              "      <td>good</td>\n",
              "      <td>0.466828</td>\n",
              "    </tr>\n",
              "    <tr>\n",
              "      <th>1</th>\n",
              "      <td>well</td>\n",
              "      <td>0.460021</td>\n",
              "    </tr>\n",
              "    <tr>\n",
              "      <th>2</th>\n",
              "      <td>think</td>\n",
              "      <td>0.436241</td>\n",
              "    </tr>\n",
              "    <tr>\n",
              "      <th>3</th>\n",
              "      <td>work</td>\n",
              "      <td>0.432424</td>\n",
              "    </tr>\n",
              "    <tr>\n",
              "      <th>4</th>\n",
              "      <td>sure</td>\n",
              "      <td>0.432111</td>\n",
              "    </tr>\n",
              "    <tr>\n",
              "      <th>5</th>\n",
              "      <td>experience</td>\n",
              "      <td>0.426766</td>\n",
              "    </tr>\n",
              "    <tr>\n",
              "      <th>6</th>\n",
              "      <td>making</td>\n",
              "      <td>0.422035</td>\n",
              "    </tr>\n",
              "    <tr>\n",
              "      <th>7</th>\n",
              "      <td>must</td>\n",
              "      <td>0.420952</td>\n",
              "    </tr>\n",
              "    <tr>\n",
              "      <th>8</th>\n",
              "      <td>time</td>\n",
              "      <td>0.419104</td>\n",
              "    </tr>\n",
              "    <tr>\n",
              "      <th>9</th>\n",
              "      <td>hard</td>\n",
              "      <td>0.412615</td>\n",
              "    </tr>\n",
              "  </tbody>\n",
              "</table>\n",
              "</div>"
            ],
            "text/plain": [
              "         word  sim score\n",
              "0        good   0.466828\n",
              "1        well   0.460021\n",
              "2       think   0.436241\n",
              "3        work   0.432424\n",
              "4        sure   0.432111\n",
              "5  experience   0.426766\n",
              "6      making   0.422035\n",
              "7        must   0.420952\n",
              "8        time   0.419104\n",
              "9        hard   0.412615"
            ]
          },
          "metadata": {},
          "execution_count": 94
        }
      ]
    },
    {
      "cell_type": "code",
      "metadata": {
        "colab": {
          "base_uri": "https://localhost:8080/",
          "height": 357
        },
        "id": "Ev_q6YEfec5V",
        "outputId": "3da64029-91a0-42d7-c5a5-7528766ec73e"
      },
      "source": [
        "pd.DataFrame(sorted_ext_sim_scores_2, columns =['word', 'sim score']).tail(10)"
      ],
      "execution_count": null,
      "outputs": [
        {
          "output_type": "execute_result",
          "data": {
            "text/html": [
              "<div>\n",
              "<style scoped>\n",
              "    .dataframe tbody tr th:only-of-type {\n",
              "        vertical-align: middle;\n",
              "    }\n",
              "\n",
              "    .dataframe tbody tr th {\n",
              "        vertical-align: top;\n",
              "    }\n",
              "\n",
              "    .dataframe thead th {\n",
              "        text-align: right;\n",
              "    }\n",
              "</style>\n",
              "<table border=\"1\" class=\"dataframe\">\n",
              "  <thead>\n",
              "    <tr style=\"text-align: right;\">\n",
              "      <th></th>\n",
              "      <th>word</th>\n",
              "      <th>sim score</th>\n",
              "    </tr>\n",
              "  </thead>\n",
              "  <tbody>\n",
              "    <tr>\n",
              "      <th>103</th>\n",
              "      <td>agreeable</td>\n",
              "      <td>0.152763</td>\n",
              "    </tr>\n",
              "    <tr>\n",
              "      <th>104</th>\n",
              "      <td>idiot</td>\n",
              "      <td>0.139266</td>\n",
              "    </tr>\n",
              "    <tr>\n",
              "      <th>105</th>\n",
              "      <td>decisiveness</td>\n",
              "      <td>0.126121</td>\n",
              "    </tr>\n",
              "    <tr>\n",
              "      <th>106</th>\n",
              "      <td>u</td>\n",
              "      <td>0.120770</td>\n",
              "    </tr>\n",
              "    <tr>\n",
              "      <th>107</th>\n",
              "      <td>underprivileged</td>\n",
              "      <td>0.117896</td>\n",
              "    </tr>\n",
              "    <tr>\n",
              "      <th>108</th>\n",
              "      <td>negotiator</td>\n",
              "      <td>0.113906</td>\n",
              "    </tr>\n",
              "    <tr>\n",
              "      <th>109</th>\n",
              "      <td>approachable</td>\n",
              "      <td>0.111753</td>\n",
              "    </tr>\n",
              "    <tr>\n",
              "      <th>110</th>\n",
              "      <td>sociology</td>\n",
              "      <td>0.111632</td>\n",
              "    </tr>\n",
              "    <tr>\n",
              "      <th>111</th>\n",
              "      <td>trustworthiness</td>\n",
              "      <td>0.111473</td>\n",
              "    </tr>\n",
              "    <tr>\n",
              "      <th>112</th>\n",
              "      <td>ulterior</td>\n",
              "      <td>0.081883</td>\n",
              "    </tr>\n",
              "  </tbody>\n",
              "</table>\n",
              "</div>"
            ],
            "text/plain": [
              "                word  sim score\n",
              "103        agreeable   0.152763\n",
              "104            idiot   0.139266\n",
              "105     decisiveness   0.126121\n",
              "106                u   0.120770\n",
              "107  underprivileged   0.117896\n",
              "108       negotiator   0.113906\n",
              "109     approachable   0.111753\n",
              "110        sociology   0.111632\n",
              "111  trustworthiness   0.111473\n",
              "112         ulterior   0.081883"
            ]
          },
          "metadata": {},
          "execution_count": 95
        }
      ]
    },
    {
      "cell_type": "markdown",
      "metadata": {
        "id": "z3fJW7u2ty2z"
      },
      "source": [
        "### Experiment B5 - Every quality that we desire would be the most associated word with similar words of the words of the data set. This is because in Wiki corpus, a word representing \"quality\" would be around words associated with \"quality\" which result as similar words to the \"qualities\""
      ]
    },
    {
      "cell_type": "code",
      "metadata": {
        "colab": {
          "base_uri": "https://localhost:8080/"
        },
        "id": "w17ZNiJOtx9n",
        "outputId": "10752754-01cb-46a9-ff52-0dc8237ed06b"
      },
      "source": [
        "ass_words = []\n",
        "\n",
        "for i in word_list:\n",
        "  if i in model2.vocab:\n",
        "    for j in model2.wv.most_similar(i,topn=10):\n",
        "      if j not in stopwords.words('english'):\n",
        "        ass_words.append(j[0])"
      ],
      "execution_count": null,
      "outputs": [
        {
          "output_type": "stream",
          "name": "stderr",
          "text": [
            "/usr/local/lib/python3.7/dist-packages/ipykernel_launcher.py:5: DeprecationWarning: Call to deprecated `wv` (Attribute will be removed in 4.0.0, use self instead).\n",
            "  \"\"\"\n"
          ]
        }
      ]
    },
    {
      "cell_type": "code",
      "metadata": {
        "colab": {
          "base_uri": "https://localhost:8080/"
        },
        "id": "Saqi6sRf2uX6",
        "outputId": "244bb472-ab6e-4353-b9f7-025c5464af2f"
      },
      "source": [
        "ass_word_sim = []\n",
        "for i in word_list:\n",
        "  t = 0\n",
        "  for j in ass_words:\n",
        "    if i in model2.vocab and j in model2.vocab:\n",
        "      t = t + model2.wv.similarity(w1 = i, w2 = j)\n",
        "  ass_word_sim.append([i,t])\n",
        "\n",
        "ass_word_scores = sorted(ass_word_sim, key = lambda x: x[1])\n",
        "ass_word_scores.reverse()"
      ],
      "execution_count": null,
      "outputs": [
        {
          "output_type": "stream",
          "name": "stderr",
          "text": [
            "/usr/local/lib/python3.7/dist-packages/ipykernel_launcher.py:6: DeprecationWarning: Call to deprecated `wv` (Attribute will be removed in 4.0.0, use self instead).\n",
            "  \n"
          ]
        }
      ]
    },
    {
      "cell_type": "code",
      "metadata": {
        "colab": {
          "base_uri": "https://localhost:8080/"
        },
        "id": "yhvaflrEfwAN",
        "outputId": "9b749a68-68da-43cf-e9c0-771dffdff70a"
      },
      "source": [
        "predicted_words = []\n",
        "for i in range(10):\n",
        "  predicted_words.append(ass_word_scores[i][0])\n",
        "\n",
        "score(predicted_words)"
      ],
      "execution_count": null,
      "outputs": [
        {
          "output_type": "execute_result",
          "data": {
            "text/plain": [
              "0.9420551197550543"
            ]
          },
          "metadata": {},
          "execution_count": 103
        }
      ]
    },
    {
      "cell_type": "code",
      "metadata": {
        "colab": {
          "base_uri": "https://localhost:8080/",
          "height": 357
        },
        "id": "bGAYKjwEnLoT",
        "outputId": "8e283331-4fc3-4679-8a48-75d598324adf"
      },
      "source": [
        "pd.DataFrame(ass_word_scores, columns =['word', 'sim score']).head(10)"
      ],
      "execution_count": null,
      "outputs": [
        {
          "output_type": "execute_result",
          "data": {
            "text/html": [
              "<div>\n",
              "<style scoped>\n",
              "    .dataframe tbody tr th:only-of-type {\n",
              "        vertical-align: middle;\n",
              "    }\n",
              "\n",
              "    .dataframe tbody tr th {\n",
              "        vertical-align: top;\n",
              "    }\n",
              "\n",
              "    .dataframe thead th {\n",
              "        text-align: right;\n",
              "    }\n",
              "</style>\n",
              "<table border=\"1\" class=\"dataframe\">\n",
              "  <thead>\n",
              "    <tr style=\"text-align: right;\">\n",
              "      <th></th>\n",
              "      <th>word</th>\n",
              "      <th>sim score</th>\n",
              "    </tr>\n",
              "  </thead>\n",
              "  <tbody>\n",
              "    <tr>\n",
              "      <th>0</th>\n",
              "      <td>good</td>\n",
              "      <td>525.266888</td>\n",
              "    </tr>\n",
              "    <tr>\n",
              "      <th>1</th>\n",
              "      <td>well</td>\n",
              "      <td>518.793941</td>\n",
              "    </tr>\n",
              "    <tr>\n",
              "      <th>2</th>\n",
              "      <td>think</td>\n",
              "      <td>492.378579</td>\n",
              "    </tr>\n",
              "    <tr>\n",
              "      <th>3</th>\n",
              "      <td>sure</td>\n",
              "      <td>487.746686</td>\n",
              "    </tr>\n",
              "    <tr>\n",
              "      <th>4</th>\n",
              "      <td>work</td>\n",
              "      <td>487.295682</td>\n",
              "    </tr>\n",
              "    <tr>\n",
              "      <th>5</th>\n",
              "      <td>experience</td>\n",
              "      <td>479.904685</td>\n",
              "    </tr>\n",
              "    <tr>\n",
              "      <th>6</th>\n",
              "      <td>making</td>\n",
              "      <td>476.445741</td>\n",
              "    </tr>\n",
              "    <tr>\n",
              "      <th>7</th>\n",
              "      <td>must</td>\n",
              "      <td>474.747539</td>\n",
              "    </tr>\n",
              "    <tr>\n",
              "      <th>8</th>\n",
              "      <td>time</td>\n",
              "      <td>473.562529</td>\n",
              "    </tr>\n",
              "    <tr>\n",
              "      <th>9</th>\n",
              "      <td>lot</td>\n",
              "      <td>465.305000</td>\n",
              "    </tr>\n",
              "  </tbody>\n",
              "</table>\n",
              "</div>"
            ],
            "text/plain": [
              "         word   sim score\n",
              "0        good  525.266888\n",
              "1        well  518.793941\n",
              "2       think  492.378579\n",
              "3        sure  487.746686\n",
              "4        work  487.295682\n",
              "5  experience  479.904685\n",
              "6      making  476.445741\n",
              "7        must  474.747539\n",
              "8        time  473.562529\n",
              "9         lot  465.305000"
            ]
          },
          "metadata": {},
          "execution_count": 101
        }
      ]
    },
    {
      "cell_type": "code",
      "metadata": {
        "colab": {
          "base_uri": "https://localhost:8080/",
          "height": 357
        },
        "id": "6HwU_zxGfsmu",
        "outputId": "94859218-631a-4aed-b8e4-3f9ab76b96c1"
      },
      "source": [
        "pd.DataFrame(ass_word_scores, columns =['word', 'sim score']).tail(10)"
      ],
      "execution_count": null,
      "outputs": [
        {
          "output_type": "execute_result",
          "data": {
            "text/html": [
              "<div>\n",
              "<style scoped>\n",
              "    .dataframe tbody tr th:only-of-type {\n",
              "        vertical-align: middle;\n",
              "    }\n",
              "\n",
              "    .dataframe tbody tr th {\n",
              "        vertical-align: top;\n",
              "    }\n",
              "\n",
              "    .dataframe thead th {\n",
              "        text-align: right;\n",
              "    }\n",
              "</style>\n",
              "<table border=\"1\" class=\"dataframe\">\n",
              "  <thead>\n",
              "    <tr style=\"text-align: right;\">\n",
              "      <th></th>\n",
              "      <th>word</th>\n",
              "      <th>sim score</th>\n",
              "    </tr>\n",
              "  </thead>\n",
              "  <tbody>\n",
              "    <tr>\n",
              "      <th>105</th>\n",
              "      <td>decisiveness</td>\n",
              "      <td>140.430669</td>\n",
              "    </tr>\n",
              "    <tr>\n",
              "      <th>106</th>\n",
              "      <td>u</td>\n",
              "      <td>135.497159</td>\n",
              "    </tr>\n",
              "    <tr>\n",
              "      <th>107</th>\n",
              "      <td>underprivileged</td>\n",
              "      <td>131.205130</td>\n",
              "    </tr>\n",
              "    <tr>\n",
              "      <th>108</th>\n",
              "      <td>negotiator</td>\n",
              "      <td>126.762331</td>\n",
              "    </tr>\n",
              "    <tr>\n",
              "      <th>109</th>\n",
              "      <td>approachable</td>\n",
              "      <td>124.952654</td>\n",
              "    </tr>\n",
              "    <tr>\n",
              "      <th>110</th>\n",
              "      <td>trustworthiness</td>\n",
              "      <td>123.728177</td>\n",
              "    </tr>\n",
              "    <tr>\n",
              "      <th>111</th>\n",
              "      <td>sociology</td>\n",
              "      <td>123.640358</td>\n",
              "    </tr>\n",
              "    <tr>\n",
              "      <th>112</th>\n",
              "      <td>ulterior</td>\n",
              "      <td>91.804203</td>\n",
              "    </tr>\n",
              "    <tr>\n",
              "      <th>113</th>\n",
              "      <td>problem_solving</td>\n",
              "      <td>0.000000</td>\n",
              "    </tr>\n",
              "    <tr>\n",
              "      <th>114</th>\n",
              "      <td>common_sense</td>\n",
              "      <td>0.000000</td>\n",
              "    </tr>\n",
              "  </tbody>\n",
              "</table>\n",
              "</div>"
            ],
            "text/plain": [
              "                word   sim score\n",
              "105     decisiveness  140.430669\n",
              "106                u  135.497159\n",
              "107  underprivileged  131.205130\n",
              "108       negotiator  126.762331\n",
              "109     approachable  124.952654\n",
              "110  trustworthiness  123.728177\n",
              "111        sociology  123.640358\n",
              "112         ulterior   91.804203\n",
              "113  problem_solving    0.000000\n",
              "114     common_sense    0.000000"
            ]
          },
          "metadata": {},
          "execution_count": 102
        }
      ]
    },
    {
      "cell_type": "markdown",
      "metadata": {
        "id": "6ix7aF2aVXlD"
      },
      "source": [
        "### Experiment B6 - KMeans"
      ]
    },
    {
      "cell_type": "code",
      "metadata": {
        "colab": {
          "base_uri": "https://localhost:8080/"
        },
        "id": "mWPwFWwbrAv9",
        "outputId": "34f5ee84-13e9-4740-c94d-00830cd72d1b"
      },
      "source": [
        "X = model2[model2.wv.vocab]\n",
        "vectorized_docs = vectorize(data, model=model2)\n",
        "\n",
        "clustering, cluster_labels = mbkmeans_clusters(\n",
        "\tX=vectorized_docs,\n",
        "    k=13,\n",
        "    mb=1000,\n",
        "    print_silhouette_values=True,\n",
        ")\n",
        "df_clusters = pd.DataFrame({\n",
        "    #\"text\": docs,\n",
        "    \"tokens\": [\" \".join(text) for text in data]\n",
        "    #\"cluster\": cluster_labels\n",
        "})"
      ],
      "execution_count": null,
      "outputs": [
        {
          "output_type": "stream",
          "name": "stderr",
          "text": [
            "/usr/local/lib/python3.7/dist-packages/ipykernel_launcher.py:1: DeprecationWarning: Call to deprecated `wv` (Attribute will be removed in 4.0.0, use self instead).\n",
            "  \"\"\"Entry point for launching an IPython kernel.\n"
          ]
        },
        {
          "output_type": "stream",
          "name": "stdout",
          "text": [
            "For n_clusters = 13\n",
            "Silhouette coefficient: 0.07\n",
            "Inertia:87.95091373169515\n",
            "Silhouette values:\n",
            "    Cluster 2: Size:2 | Avg:0.38 | Min:0.32 | Max: 0.44\n",
            "    Cluster 12: Size:8 | Avg:0.13 | Min:0.03 | Max: 0.22\n",
            "    Cluster 3: Size:5 | Avg:0.11 | Min:0.06 | Max: 0.15\n",
            "    Cluster 10: Size:2 | Avg:0.09 | Min:0.07 | Max: 0.11\n",
            "    Cluster 11: Size:2 | Avg:0.08 | Min:0.06 | Max: 0.09\n",
            "    Cluster 8: Size:4 | Avg:0.06 | Min:-0.08 | Max: 0.14\n",
            "    Cluster 4: Size:3 | Avg:0.01 | Min:0.00 | Max: 0.03\n",
            "    Cluster 0: Size:1 | Avg:0.00 | Min:0.00 | Max: 0.00\n",
            "    Cluster 6: Size:1 | Avg:0.00 | Min:0.00 | Max: 0.00\n",
            "    Cluster 7: Size:1 | Avg:0.00 | Min:0.00 | Max: 0.00\n",
            "    Cluster 9: Size:1 | Avg:0.00 | Min:0.00 | Max: 0.00\n",
            "    Cluster 5: Size:3 | Avg:-0.02 | Min:-0.11 | Max: 0.04\n",
            "    Cluster 1: Size:5 | Avg:-0.06 | Min:-0.12 | Max: 0.04\n"
          ]
        },
        {
          "output_type": "stream",
          "name": "stderr",
          "text": [
            "/usr/local/lib/python3.7/dist-packages/ipykernel_launcher.py:17: DeprecationWarning: Call to deprecated `wv` (Attribute will be removed in 4.0.0, use self instead).\n",
            "/usr/local/lib/python3.7/dist-packages/ipykernel_launcher.py:19: DeprecationWarning: Call to deprecated `wv` (Attribute will be removed in 4.0.0, use self instead).\n"
          ]
        }
      ]
    },
    {
      "cell_type": "code",
      "metadata": {
        "colab": {
          "base_uri": "https://localhost:8080/"
        },
        "id": "E_eK-Sp-rAql",
        "outputId": "5a6d1e11-a091-43f6-fd8a-17c471c3b1f9"
      },
      "source": [
        "print(\"Most representative terms per cluster (based on centroids):\")\n",
        "tokens_per_cluster = \"\"\n",
        "most_representative = model2.wv.most_similar(positive=[clustering.cluster_centers_[2]], topn=10)\n",
        "for t in most_representative:\n",
        "    tokens_per_cluster += f\"{t[0]} \"\n",
        "print(f\"Cluster {i}: {tokens_per_cluster}\")"
      ],
      "execution_count": null,
      "outputs": [
        {
          "output_type": "stream",
          "name": "stdout",
          "text": [
            "Most representative terms per cluster (based on centroids):\n",
            "Cluster 7: integrity honesty professionalism competence fairness respect courage determination dignity credibility \n"
          ]
        },
        {
          "output_type": "stream",
          "name": "stderr",
          "text": [
            "/usr/local/lib/python3.7/dist-packages/ipykernel_launcher.py:3: DeprecationWarning: Call to deprecated `wv` (Attribute will be removed in 4.0.0, use self instead).\n",
            "  This is separate from the ipykernel package so we can avoid doing imports until\n"
          ]
        }
      ]
    },
    {
      "cell_type": "code",
      "metadata": {
        "colab": {
          "base_uri": "https://localhost:8080/"
        },
        "id": "ZyC4SDfkhWqQ",
        "outputId": "4d70b229-0af6-4e65-f421-415adad29fd3"
      },
      "source": [
        "predicted_words = []\n",
        "model_2_words = tokenizer.tokenize(tokens_per_cluster)\n",
        "for i in range(10):\n",
        "  predicted_words.append(model_2_words[0])\n",
        "score(predicted_words)"
      ],
      "execution_count": null,
      "outputs": [
        {
          "output_type": "execute_result",
          "data": {
            "text/plain": [
              "1.1030320061357328"
            ]
          },
          "metadata": {},
          "execution_count": 124
        }
      ]
    }
  ]
}