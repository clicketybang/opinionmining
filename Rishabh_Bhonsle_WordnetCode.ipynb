{
  "nbformat": 4,
  "nbformat_minor": 0,
  "metadata": {
    "colab": {
      "name": "Wordnet.ipynb",
      "provenance": [],
      "collapsed_sections": [
        "CyEZcBthzwcn",
        "kYWzjPlb6pWf",
        "dCnnSFZGC5Ob",
        "2UNBAK4h6xKU",
        "rC1XQwwUC6bP",
        "v-OavBvFCJmg",
        "aBByv53Kizym",
        "n8uzP_MJNz4H",
        "_gkkY3N_gqvK",
        "RN5wAiBKNDLt",
        "4WtZ490Sw_Yb"
      ]
    },
    "kernelspec": {
      "display_name": "Python 3",
      "name": "python3"
    },
    "language_info": {
      "name": "python"
    }
  },
  "cells": [
    {
      "cell_type": "markdown",
      "metadata": {
        "id": "OGxpWG7NWVLR"
      },
      "source": [
        "# Wordnet Implementation"
      ]
    },
    {
      "cell_type": "markdown",
      "metadata": {
        "id": "CyEZcBthzwcn"
      },
      "source": [
        "## Building the Vocabulary"
      ]
    },
    {
      "cell_type": "markdown",
      "metadata": {
        "id": "kYWzjPlb6pWf"
      },
      "source": [
        "### Imports"
      ]
    },
    {
      "cell_type": "code",
      "metadata": {
        "colab": {
          "base_uri": "https://localhost:8080/"
        },
        "id": "1NH9Nk9ByXkM",
        "outputId": "892517b1-d545-494a-b140-371e2557e4e0"
      },
      "source": [
        "import xlrd\n",
        "import pandas as pd \n",
        "import sys\n",
        "import nltk\n",
        "nltk.download('wordnet')\n",
        "nltk.download('stopwords')\n",
        "nltk.download('punkt')\n",
        "from nltk.corpus import wordnet\n",
        "from nltk.corpus import wordnet as wn\n",
        "from nltk.corpus import stopwords\n",
        "from nltk.tokenize import RegexpTokenizer\n",
        "from textblob import TextBlob\n",
        "from sklearn.feature_extraction.text import TfidfVectorizer\n",
        "from sklearn.cluster import KMeans\n",
        "import matplotlib.pyplot as plt"
      ],
      "execution_count": null,
      "outputs": [
        {
          "name": "stdout",
          "output_type": "stream",
          "text": [
            "[nltk_data] Downloading package wordnet to /root/nltk_data...\n",
            "[nltk_data]   Package wordnet is already up-to-date!\n",
            "[nltk_data] Downloading package stopwords to /root/nltk_data...\n",
            "[nltk_data]   Package stopwords is already up-to-date!\n",
            "[nltk_data] Downloading package punkt to /root/nltk_data...\n",
            "[nltk_data]   Package punkt is already up-to-date!\n"
          ]
        }
      ]
    },
    {
      "cell_type": "code",
      "metadata": {
        "colab": {
          "base_uri": "https://localhost:8080/"
        },
        "id": "nWQRi7gyyucg",
        "outputId": "ebf363cf-007c-4585-d4d7-1b44fc928753"
      },
      "source": [
        "from google.colab import drive\n",
        "drive.mount('/content/drive')"
      ],
      "execution_count": null,
      "outputs": [
        {
          "name": "stdout",
          "output_type": "stream",
          "text": [
            "Mounted at /content/drive\n"
          ]
        }
      ]
    },
    {
      "cell_type": "code",
      "metadata": {
        "colab": {
          "base_uri": "https://localhost:8080/"
        },
        "id": "dplHgtgCyvx7",
        "outputId": "ab5f61ad-1a16-437d-d282-1c7cb24124c1"
      },
      "source": [
        "f1 = (\"/content/drive/MyDrive/Colab Notebooks/Data/assignment3_data.xlsx\")\n",
        "wb = xlrd.open_workbook(f1)\n",
        "data = wb.sheet_by_index(0)\n",
        "\n",
        "PM_qual = []\n",
        "\n",
        "for i in range(1, data.nrows):\n",
        "  temp_txt = data.cell_value(i, 0).lower()\n",
        "  PM_qual.append(temp_txt)\n",
        "\n",
        "len(PM_qual)"
      ],
      "execution_count": null,
      "outputs": [
        {
          "data": {
            "text/plain": [
              "38"
            ]
          },
          "execution_count": 6,
          "metadata": {},
          "output_type": "execute_result"
        }
      ]
    },
    {
      "cell_type": "markdown",
      "metadata": {
        "id": "dCnnSFZGC5Ob"
      },
      "source": [
        "### Scoring"
      ]
    },
    {
      "cell_type": "code",
      "metadata": {
        "colab": {
          "base_uri": "https://localhost:8080/"
        },
        "id": "BYTuiGIZC4tP",
        "outputId": "9a892759-1fd1-4979-de5c-cd6559a60ffc"
      },
      "source": [
        "f1 = (\"/content/drive/MyDrive/Colab Notebooks/Data/assignment3_gold_labels.xlsx\")\n",
        "wb = xlrd.open_workbook(f1)\n",
        "data = wb.sheet_by_index(0)\n",
        "\n",
        "actual_data = []\n",
        "\n",
        "for i in range(2, data.nrows):\n",
        "  temp_txt = data.cell_value(i, 0).lower()\n",
        "  actual_data.append(temp_txt)\n",
        "\n",
        "len(actual_data)"
      ],
      "execution_count": null,
      "outputs": [
        {
          "data": {
            "text/plain": [
              "10"
            ]
          },
          "execution_count": 42,
          "metadata": {},
          "output_type": "execute_result"
        }
      ]
    },
    {
      "cell_type": "code",
      "metadata": {
        "id": "Q0PiyvJIDC-H"
      },
      "source": [
        "actual_words = []\n",
        "for i in range(len(actual_data)):\n",
        "  text = actual_data[i]\n",
        "  tokens = tokenizer.tokenize(text)\n",
        "  for j in tokens:\n",
        "    syn = wn.synsets(j)\n",
        "\n",
        "    if syn!=[] and j not in stopwords.words('english'):\n",
        "      if j not in actual_words:\n",
        "          actual_words.append(j)"
      ],
      "execution_count": null,
      "outputs": []
    },
    {
      "cell_type": "code",
      "metadata": {
        "id": "S78FrwAjDGrd"
      },
      "source": [
        "best_score = 0\n",
        "for i in actual_words:\n",
        "  for j in actual_words:\n",
        "    syn1 = wordnet.synsets(i)[0]\n",
        "    syn2 = wordnet.synsets(j)[0]\n",
        "    temp_sim = syn1.wup_similarity(syn2)\n",
        "    if temp_sim == None:\n",
        "      temp_sim = 0\n",
        "    best_score = best_score + temp_sim\n",
        "best_score = best_score/(len(actual_words)**2)"
      ],
      "execution_count": null,
      "outputs": []
    },
    {
      "cell_type": "code",
      "metadata": {
        "id": "gRyBMTwODPSe"
      },
      "source": [
        "def score(predicted_words):\n",
        "  pred_score = 0\n",
        "  for i in actual_words:\n",
        "    for j in predicted_words:\n",
        "      syn1 = wordnet.synsets(i)[0]\n",
        "      syn2 = wordnet.synsets(j)[0]\n",
        "      temp_sim = syn1.wup_similarity(syn2)\n",
        "      if temp_sim == None:\n",
        "        temp_sim = 0\n",
        "      pred_score = pred_score + temp_sim\n",
        "  return (pred_score/(len(actual_words)*len(predicted_words)))/best_score"
      ],
      "execution_count": null,
      "outputs": []
    },
    {
      "cell_type": "markdown",
      "metadata": {
        "id": "2UNBAK4h6xKU"
      },
      "source": [
        "### Pre-processing"
      ]
    },
    {
      "cell_type": "markdown",
      "metadata": {
        "id": "Jleyh1FwXJFJ"
      },
      "source": [
        "Could have added lemmatization here, but it did not affect the dataset significantly. Thus almost all words are more or less semantically different."
      ]
    },
    {
      "cell_type": "code",
      "metadata": {
        "id": "_Jvkcx-d7-Hx"
      },
      "source": [
        "def data_vis(vocab, count, tag):\n",
        "  data_list = []\n",
        "  for i in range(len(vocab)):\n",
        "    data_list.append([vocab[i], count[i], tag[i]])\n",
        "\n",
        "  sorted_data_list = sorted(data_list, key=lambda x: x[1])\n",
        "  sorted_data_list.reverse()\n",
        "\n",
        "  return pd.DataFrame(sorted_data_list, columns =['vocab', 'count','tag'])"
      ],
      "execution_count": null,
      "outputs": []
    },
    {
      "cell_type": "code",
      "metadata": {
        "colab": {
          "base_uri": "https://localhost:8080/",
          "height": 417
        },
        "id": "pCr_QUmh5G_-",
        "outputId": "41cccdaa-3892-414c-91dd-843a1ee91bee"
      },
      "source": [
        "tokenizer = RegexpTokenizer(\"[\\w']+\")\n",
        "vocab = []\n",
        "tag = []\n",
        "count = []\n",
        "total_vocab = []\n",
        "\n",
        "for i in range(len(PM_qual)):\n",
        "  text = PM_qual[i]\n",
        "  tokens = tokenizer.tokenize(text)\n",
        "  for j in tokens:\n",
        "    syn1 = wn.synsets(j)\n",
        "\n",
        "    if syn1!=[] and j not in stopwords.words('english'):\n",
        "      if j not in vocab:\n",
        "        if syn1[0].pos() in ['n','a','s']:\n",
        "          vocab.append(j)\n",
        "          tag.append(syn1[0].pos())\n",
        "          count.append(1)\n",
        "          total_vocab.append(j)\n",
        "          \n",
        "      else:\n",
        "        index = vocab.index(j)\n",
        "        count[index] += 1\n",
        "        total_vocab.append(j)\n",
        "\n",
        "data_vis(vocab, count, tag)"
      ],
      "execution_count": null,
      "outputs": [
        {
          "data": {
            "text/html": [
              "<div>\n",
              "<style scoped>\n",
              "    .dataframe tbody tr th:only-of-type {\n",
              "        vertical-align: middle;\n",
              "    }\n",
              "\n",
              "    .dataframe tbody tr th {\n",
              "        vertical-align: top;\n",
              "    }\n",
              "\n",
              "    .dataframe thead th {\n",
              "        text-align: right;\n",
              "    }\n",
              "</style>\n",
              "<table border=\"1\" class=\"dataframe\">\n",
              "  <thead>\n",
              "    <tr style=\"text-align: right;\">\n",
              "      <th></th>\n",
              "      <th>vocab</th>\n",
              "      <th>count</th>\n",
              "      <th>tag</th>\n",
              "    </tr>\n",
              "  </thead>\n",
              "  <tbody>\n",
              "    <tr>\n",
              "      <th>0</th>\n",
              "      <td>leadership</td>\n",
              "      <td>9</td>\n",
              "      <td>n</td>\n",
              "    </tr>\n",
              "    <tr>\n",
              "      <th>1</th>\n",
              "      <td>honesty</td>\n",
              "      <td>8</td>\n",
              "      <td>n</td>\n",
              "    </tr>\n",
              "    <tr>\n",
              "      <th>2</th>\n",
              "      <td>intelligence</td>\n",
              "      <td>5</td>\n",
              "      <td>n</td>\n",
              "    </tr>\n",
              "    <tr>\n",
              "      <th>3</th>\n",
              "      <td>experience</td>\n",
              "      <td>4</td>\n",
              "      <td>n</td>\n",
              "    </tr>\n",
              "    <tr>\n",
              "      <th>4</th>\n",
              "      <td>smart</td>\n",
              "      <td>4</td>\n",
              "      <td>n</td>\n",
              "    </tr>\n",
              "    <tr>\n",
              "      <th>...</th>\n",
              "      <td>...</td>\n",
              "      <td>...</td>\n",
              "      <td>...</td>\n",
              "    </tr>\n",
              "    <tr>\n",
              "      <th>112</th>\n",
              "      <td>progressive</td>\n",
              "      <td>1</td>\n",
              "      <td>n</td>\n",
              "    </tr>\n",
              "    <tr>\n",
              "      <th>113</th>\n",
              "      <td>systems</td>\n",
              "      <td>1</td>\n",
              "      <td>n</td>\n",
              "    </tr>\n",
              "    <tr>\n",
              "      <th>114</th>\n",
              "      <td>ethic</td>\n",
              "      <td>1</td>\n",
              "      <td>n</td>\n",
              "    </tr>\n",
              "    <tr>\n",
              "      <th>115</th>\n",
              "      <td>well</td>\n",
              "      <td>1</td>\n",
              "      <td>n</td>\n",
              "    </tr>\n",
              "    <tr>\n",
              "      <th>116</th>\n",
              "      <td>passion</td>\n",
              "      <td>1</td>\n",
              "      <td>n</td>\n",
              "    </tr>\n",
              "  </tbody>\n",
              "</table>\n",
              "<p>117 rows × 3 columns</p>\n",
              "</div>"
            ],
            "text/plain": [
              "            vocab  count tag\n",
              "0      leadership      9   n\n",
              "1         honesty      8   n\n",
              "2    intelligence      5   n\n",
              "3      experience      4   n\n",
              "4           smart      4   n\n",
              "..            ...    ...  ..\n",
              "112   progressive      1   n\n",
              "113       systems      1   n\n",
              "114         ethic      1   n\n",
              "115          well      1   n\n",
              "116       passion      1   n\n",
              "\n",
              "[117 rows x 3 columns]"
            ]
          },
          "execution_count": 9,
          "metadata": {},
          "output_type": "execute_result"
        }
      ]
    },
    {
      "cell_type": "code",
      "metadata": {
        "colab": {
          "base_uri": "https://localhost:8080/",
          "height": 358
        },
        "id": "Ty_JwdePgVwg",
        "outputId": "4e53d2dd-67b1-4249-a7f8-d5047c0dea6d"
      },
      "source": [
        "nlp_words = nltk.FreqDist(total_vocab)\n",
        "plot1 = nlp_words.plot(20, color='salmon', title='Word Frequency')"
      ],
      "execution_count": null,
      "outputs": [
        {
          "data": {
            "image/png": "[encoded data removed]",
            "text/plain": [
              "<Figure size 432x288 with 1 Axes>"
            ]
          },
          "metadata": {},
          "output_type": "display_data"
        }
      ]
    },
    {
      "cell_type": "code",
      "metadata": {
        "id": "_LWyJosskN1p"
      },
      "source": [
        "word_anti = []\n",
        "\n",
        "for i in negative_words:\n",
        "  index = vocab.index(i)\n",
        "  vocab.pop(index)\n",
        "  count.pop(index)\n",
        "  tag.pop(index)\n",
        "  word_anti = antonyms(i)\n",
        "  for j in word_anti:\n",
        "\n",
        "    syn1 = wn.synsets(j)\n",
        "\n",
        "    if syn1!=[] and j not in stopwords.words('english'):\n",
        "      if j not in vocab:\n",
        "        if syn1[0].pos() in ['n','a','s']:\n",
        "          vocab.append(j)\n",
        "          tag.append(syn1[0].pos())\n",
        "          count.append(1)\n",
        "          \n",
        "      else:\n",
        "        index = vocab.index(j)\n",
        "        count[index] += 1"
      ],
      "execution_count": null,
      "outputs": []
    },
    {
      "cell_type": "markdown",
      "metadata": {
        "id": "PGkyysGi7m2R"
      },
      "source": [
        "Negative words might not be associated with qualities of a prime minister or might be used as in a negative way. eg - not a bad person\n",
        "\n",
        "Thus we eliminate such words like \"bad\" by taking its antonyms"
      ]
    },
    {
      "cell_type": "code",
      "metadata": {
        "colab": {
          "base_uri": "https://localhost:8080/"
        },
        "id": "n4zL-0QnVkiC",
        "outputId": "c4ca725c-daf2-4c8f-b653-1a07f2de1fef"
      },
      "source": [
        "sentiment = []\n",
        "negative_words = []\n",
        "\n",
        "for i in vocab:\n",
        "  word = TextBlob(i)\n",
        "  word.sentiment\n",
        "  sentiment.append(word.sentiment.polarity)\n",
        "  if word.sentiment.polarity < 0:\n",
        "    negative_words.append(i)\n",
        "\n",
        "negative_words"
      ],
      "execution_count": null,
      "outputs": [
        {
          "data": {
            "text/plain": [
              "['common', 'idiot', 'hard']"
            ]
          },
          "execution_count": 16,
          "metadata": {},
          "output_type": "execute_result"
        }
      ]
    },
    {
      "cell_type": "code",
      "metadata": {
        "id": "Jn_LDYfnj1zR"
      },
      "source": [
        "def antonyms(word):\n",
        "\n",
        "  antonyms = []\n",
        "  for syn in wordnet.synsets(word):\n",
        "      for lm in syn.lemmas():\n",
        "          if lm.antonyms():\n",
        "              antonyms.append(lm.antonyms()[0].name()) #adding into antonyms\n",
        "              \n",
        "  return antonyms"
      ],
      "execution_count": null,
      "outputs": []
    },
    {
      "cell_type": "markdown",
      "metadata": {
        "id": "vYhXaCVVIkmm"
      },
      "source": [
        "Visualising likeliness of similarities between words of our vocab"
      ]
    },
    {
      "cell_type": "code",
      "metadata": {
        "colab": {
          "base_uri": "https://localhost:8080/",
          "height": 298
        },
        "id": "cVaQMoK1i-m2",
        "outputId": "8a0ffb84-090f-4247-e188-41f5add11283"
      },
      "source": [
        "sim_list = []\n",
        "for i in vocab:\n",
        "  for j in vocab:\n",
        "    syn1 = wordnet.synsets(i)[0]\n",
        "    syn2 = wordnet.synsets(j)[0]\n",
        "    sim_list.append(syn1.wup_similarity(syn2))\n",
        "\n",
        "df = pd.DataFrame({\n",
        "    'sim_list': sim_list\n",
        "})\n",
        "\n",
        "df['sim_list'].plot.hist(color='salmon', title='Similarity Visualization')"
      ],
      "execution_count": null,
      "outputs": [
        {
          "data": {
            "text/plain": [
              "<matplotlib.axes._subplots.AxesSubplot at 0x7f9652550050>"
            ]
          },
          "execution_count": 19,
          "metadata": {},
          "output_type": "execute_result"
        },
        {
          "data": {
            "image/png": "[encoded data removed]",
            "text/plain": [
              "<Figure size 432x288 with 1 Axes>"
            ]
          },
          "metadata": {},
          "output_type": "display_data"
        }
      ]
    },
    {
      "cell_type": "markdown",
      "metadata": {
        "id": "rC1XQwwUC6bP"
      },
      "source": [
        "## Experiment 1 - Using Simple Similarity Measures"
      ]
    },
    {
      "cell_type": "markdown",
      "metadata": {
        "id": "_I3ybsoeKhkN"
      },
      "source": [
        "Given graph, let's consider data having similarities more than 0.5"
      ]
    },
    {
      "cell_type": "code",
      "metadata": {
        "id": "Fu4BjukXIwR8"
      },
      "source": [
        "sim_data = []\n",
        "sim_score = []\n",
        "wup_sim = 0\n",
        "\n",
        "for i in vocab:\n",
        "  temp_score = 0\n",
        "  for j in vocab:\n",
        "    syn1 = wordnet.synsets(i)[0]\n",
        "    syn2 = wordnet.synsets(j)[0]\n",
        "    wup_sim = syn1.wup_similarity(syn2)\n",
        "    sim_data.append([i,j,wup_sim])\n",
        "    if wup_sim == None:\n",
        "      wup_sim = 0\n",
        "    if wup_sim > 0.5:\n",
        "      temp_score += wup_sim\n",
        "  sim_score.append([i, temp_score/len(vocab)])\n",
        "\n",
        "sorted_sim_scores = sorted(sim_score, key=lambda x: x[1])\n",
        "sorted_sim_scores.reverse()"
      ],
      "execution_count": null,
      "outputs": []
    },
    {
      "cell_type": "code",
      "metadata": {
        "colab": {
          "base_uri": "https://localhost:8080/"
        },
        "id": "avq6WTcsDkkj",
        "outputId": "fa8bc252-92f2-4f24-b21d-4e8be1d6b177"
      },
      "source": [
        "predicted_words = []\n",
        "for i in range(10):\n",
        "  predicted_words.append(sorted_sim_scores[i][0])\n",
        "\n",
        "score(predicted_words)"
      ],
      "execution_count": null,
      "outputs": [
        {
          "data": {
            "text/plain": [
              "1.3045351588816225"
            ]
          },
          "execution_count": 51,
          "metadata": {},
          "output_type": "execute_result"
        }
      ]
    },
    {
      "cell_type": "code",
      "metadata": {
        "colab": {
          "base_uri": "https://localhost:8080/",
          "height": 357
        },
        "id": "haDZufaU9GTV",
        "outputId": "2441527d-2188-4bd7-e3db-8fa11b4342af"
      },
      "source": [
        "pd.DataFrame(sorted_sim_scores, columns =['vocab', 'sim score']).head(10)"
      ],
      "execution_count": null,
      "outputs": [
        {
          "data": {
            "text/html": [
              "<div>\n",
              "<style scoped>\n",
              "    .dataframe tbody tr th:only-of-type {\n",
              "        vertical-align: middle;\n",
              "    }\n",
              "\n",
              "    .dataframe tbody tr th {\n",
              "        vertical-align: top;\n",
              "    }\n",
              "\n",
              "    .dataframe thead th {\n",
              "        text-align: right;\n",
              "    }\n",
              "</style>\n",
              "<table border=\"1\" class=\"dataframe\">\n",
              "  <thead>\n",
              "    <tr style=\"text-align: right;\">\n",
              "      <th></th>\n",
              "      <th>vocab</th>\n",
              "      <th>sim score</th>\n",
              "    </tr>\n",
              "  </thead>\n",
              "  <tbody>\n",
              "    <tr>\n",
              "      <th>0</th>\n",
              "      <td>knowledge</td>\n",
              "      <td>0.157037</td>\n",
              "    </tr>\n",
              "    <tr>\n",
              "      <th>1</th>\n",
              "      <td>qualities</td>\n",
              "      <td>0.153139</td>\n",
              "    </tr>\n",
              "    <tr>\n",
              "      <th>2</th>\n",
              "      <td>stay</td>\n",
              "      <td>0.121092</td>\n",
              "    </tr>\n",
              "    <tr>\n",
              "      <th>3</th>\n",
              "      <td>work</td>\n",
              "      <td>0.118314</td>\n",
              "    </tr>\n",
              "    <tr>\n",
              "      <th>4</th>\n",
              "      <td>achievement</td>\n",
              "      <td>0.117619</td>\n",
              "    </tr>\n",
              "    <tr>\n",
              "      <th>5</th>\n",
              "      <td>leadership</td>\n",
              "      <td>0.117184</td>\n",
              "    </tr>\n",
              "    <tr>\n",
              "      <th>6</th>\n",
              "      <td>determination</td>\n",
              "      <td>0.115973</td>\n",
              "    </tr>\n",
              "    <tr>\n",
              "      <th>7</th>\n",
              "      <td>unity</td>\n",
              "      <td>0.115950</td>\n",
              "    </tr>\n",
              "    <tr>\n",
              "      <th>8</th>\n",
              "      <td>integrity</td>\n",
              "      <td>0.115950</td>\n",
              "    </tr>\n",
              "    <tr>\n",
              "      <th>9</th>\n",
              "      <td>promises</td>\n",
              "      <td>0.114844</td>\n",
              "    </tr>\n",
              "  </tbody>\n",
              "</table>\n",
              "</div>"
            ],
            "text/plain": [
              "           vocab  sim score\n",
              "0      knowledge   0.157037\n",
              "1      qualities   0.153139\n",
              "2           stay   0.121092\n",
              "3           work   0.118314\n",
              "4    achievement   0.117619\n",
              "5     leadership   0.117184\n",
              "6  determination   0.115973\n",
              "7          unity   0.115950\n",
              "8      integrity   0.115950\n",
              "9       promises   0.114844"
            ]
          },
          "execution_count": 23,
          "metadata": {},
          "output_type": "execute_result"
        }
      ]
    },
    {
      "cell_type": "code",
      "metadata": {
        "colab": {
          "base_uri": "https://localhost:8080/",
          "height": 357
        },
        "id": "6UBXIqyX9Hjx",
        "outputId": "56fd0934-5fbf-47ae-a578-a9c260321758"
      },
      "source": [
        "pd.DataFrame(sorted_sim_scores, columns =['vocab', 'sim score']).tail(10)"
      ],
      "execution_count": null,
      "outputs": [
        {
          "data": {
            "text/html": [
              "<div>\n",
              "<style scoped>\n",
              "    .dataframe tbody tr th:only-of-type {\n",
              "        vertical-align: middle;\n",
              "    }\n",
              "\n",
              "    .dataframe tbody tr th {\n",
              "        vertical-align: top;\n",
              "    }\n",
              "\n",
              "    .dataframe thead th {\n",
              "        text-align: right;\n",
              "    }\n",
              "</style>\n",
              "<table border=\"1\" class=\"dataframe\">\n",
              "  <thead>\n",
              "    <tr style=\"text-align: right;\">\n",
              "      <th></th>\n",
              "      <th>vocab</th>\n",
              "      <th>sim score</th>\n",
              "    </tr>\n",
              "  </thead>\n",
              "  <tbody>\n",
              "    <tr>\n",
              "      <th>108</th>\n",
              "      <td>peaceful</td>\n",
              "      <td>0.008475</td>\n",
              "    </tr>\n",
              "    <tr>\n",
              "      <th>109</th>\n",
              "      <td>crucial</td>\n",
              "      <td>0.008475</td>\n",
              "    </tr>\n",
              "    <tr>\n",
              "      <th>110</th>\n",
              "      <td>capable</td>\n",
              "      <td>0.008475</td>\n",
              "    </tr>\n",
              "    <tr>\n",
              "      <th>111</th>\n",
              "      <td>county</td>\n",
              "      <td>0.008475</td>\n",
              "    </tr>\n",
              "    <tr>\n",
              "      <th>112</th>\n",
              "      <td>logical</td>\n",
              "      <td>0.008475</td>\n",
              "    </tr>\n",
              "    <tr>\n",
              "      <th>113</th>\n",
              "      <td>eloquent</td>\n",
              "      <td>0.008475</td>\n",
              "    </tr>\n",
              "    <tr>\n",
              "      <th>114</th>\n",
              "      <td>confident</td>\n",
              "      <td>0.008475</td>\n",
              "    </tr>\n",
              "    <tr>\n",
              "      <th>115</th>\n",
              "      <td>lot</td>\n",
              "      <td>0.008475</td>\n",
              "    </tr>\n",
              "    <tr>\n",
              "      <th>116</th>\n",
              "      <td>sure</td>\n",
              "      <td>0.008475</td>\n",
              "    </tr>\n",
              "    <tr>\n",
              "      <th>117</th>\n",
              "      <td>u</td>\n",
              "      <td>0.008475</td>\n",
              "    </tr>\n",
              "  </tbody>\n",
              "</table>\n",
              "</div>"
            ],
            "text/plain": [
              "         vocab  sim score\n",
              "108   peaceful   0.008475\n",
              "109    crucial   0.008475\n",
              "110    capable   0.008475\n",
              "111     county   0.008475\n",
              "112    logical   0.008475\n",
              "113   eloquent   0.008475\n",
              "114  confident   0.008475\n",
              "115        lot   0.008475\n",
              "116       sure   0.008475\n",
              "117          u   0.008475"
            ]
          },
          "execution_count": 24,
          "metadata": {},
          "output_type": "execute_result"
        }
      ]
    },
    {
      "cell_type": "markdown",
      "metadata": {
        "id": "v-OavBvFCJmg"
      },
      "source": [
        "## Experiment 2 - Repeating Trial 1 using Synonyms of Voabulary Words"
      ]
    },
    {
      "cell_type": "code",
      "metadata": {
        "id": "7WTV-4bpDNCE"
      },
      "source": [
        "def synonyms(word):\n",
        "  synonyms = []\n",
        "  for syn in wordnet.synsets(word):\n",
        "    for l in syn.lemmas():\n",
        "      if l.name() not in synonyms:\n",
        "        synonyms.append(l.name())\n",
        "\n",
        "  return synonyms"
      ],
      "execution_count": null,
      "outputs": []
    },
    {
      "cell_type": "code",
      "metadata": {
        "id": "tmftcXZpDM5k"
      },
      "source": [
        "syn_vocab = []\n",
        "\n",
        "for i in vocab:\n",
        "  syn_vocab.append([i, *synonyms(i)])\n",
        "\n",
        "syn_list = []\n",
        "for i in syn_vocab:\n",
        "  for j in syn_vocab:\n",
        "    t = 0\n",
        "    for k in i:\n",
        "      for l in j:\n",
        "        syn1 = wordnet.synsets(k)[0]\n",
        "        syn2 = wordnet.synsets(l)[0]\n",
        "        if syn1.wup_similarity(syn2):\n",
        "          t =+ syn1.wup_similarity(syn2)\n",
        "    syn_list.append(t/(len(i)*len(j)))"
      ],
      "execution_count": null,
      "outputs": []
    },
    {
      "cell_type": "code",
      "metadata": {
        "colab": {
          "base_uri": "https://localhost:8080/",
          "height": 298
        },
        "id": "2U7p7bETVsfR",
        "outputId": "c83c6634-d531-4ad0-93de-764f96c0f57d"
      },
      "source": [
        "df = pd.DataFrame({\n",
        "    'sim_list': syn_list\n",
        "})\n",
        "\n",
        "df['sim_list'].plot.hist(color='salmon', title='Similarity Visualization')"
      ],
      "execution_count": null,
      "outputs": [
        {
          "data": {
            "text/plain": [
              "<matplotlib.axes._subplots.AxesSubplot at 0x7f96508d67d0>"
            ]
          },
          "execution_count": 27,
          "metadata": {},
          "output_type": "execute_result"
        },
        {
          "data": {
            "image/png": "[encoded data removed]",
            "text/plain": [
              "<Figure size 432x288 with 1 Axes>"
            ]
          },
          "metadata": {},
          "output_type": "display_data"
        }
      ]
    },
    {
      "cell_type": "code",
      "metadata": {
        "id": "PqE6muZcWBIG"
      },
      "source": [
        "syn_score = []\n",
        "syn_bad_score = []\n",
        "syn_score_unique = []\n",
        "t = 0\n",
        "\n",
        "for i in vocab:\n",
        "  for j in vocab:\n",
        "    if i != j:\n",
        "      syn_score.append([i, j, syn_list[t]])\n",
        "    t = t + 1\n",
        "\n",
        "sorted_syn_scores = sorted(syn_score, key=lambda x: x[2])\n",
        "sorted_syn_scores.reverse()"
      ],
      "execution_count": null,
      "outputs": []
    },
    {
      "cell_type": "code",
      "metadata": {
        "colab": {
          "base_uri": "https://localhost:8080/",
          "height": 357
        },
        "id": "-MLFwBr8hSEU",
        "outputId": "1ab4edaf-1af6-4081-f8be-425282b4d960"
      },
      "source": [
        "pd.DataFrame(sorted_syn_scores, columns =['word1', 'word2', 'syn score']).head(10)"
      ],
      "execution_count": null,
      "outputs": [
        {
          "data": {
            "text/html": [
              "<div>\n",
              "<style scoped>\n",
              "    .dataframe tbody tr th:only-of-type {\n",
              "        vertical-align: middle;\n",
              "    }\n",
              "\n",
              "    .dataframe tbody tr th {\n",
              "        vertical-align: top;\n",
              "    }\n",
              "\n",
              "    .dataframe thead th {\n",
              "        text-align: right;\n",
              "    }\n",
              "</style>\n",
              "<table border=\"1\" class=\"dataframe\">\n",
              "  <thead>\n",
              "    <tr style=\"text-align: right;\">\n",
              "      <th></th>\n",
              "      <th>word1</th>\n",
              "      <th>word2</th>\n",
              "      <th>syn score</th>\n",
              "    </tr>\n",
              "  </thead>\n",
              "  <tbody>\n",
              "    <tr>\n",
              "      <th>0</th>\n",
              "      <td>compromise</td>\n",
              "      <td>teamwork</td>\n",
              "      <td>0.145833</td>\n",
              "    </tr>\n",
              "    <tr>\n",
              "      <th>1</th>\n",
              "      <td>teamwork</td>\n",
              "      <td>compromise</td>\n",
              "      <td>0.145833</td>\n",
              "    </tr>\n",
              "    <tr>\n",
              "      <th>2</th>\n",
              "      <td>trustworthiness</td>\n",
              "      <td>willingness</td>\n",
              "      <td>0.111111</td>\n",
              "    </tr>\n",
              "    <tr>\n",
              "      <th>3</th>\n",
              "      <td>willingness</td>\n",
              "      <td>trustworthiness</td>\n",
              "      <td>0.111111</td>\n",
              "    </tr>\n",
              "    <tr>\n",
              "      <th>4</th>\n",
              "      <td>achievement</td>\n",
              "      <td>teamwork</td>\n",
              "      <td>0.111111</td>\n",
              "    </tr>\n",
              "    <tr>\n",
              "      <th>5</th>\n",
              "      <td>teamwork</td>\n",
              "      <td>achievement</td>\n",
              "      <td>0.111111</td>\n",
              "    </tr>\n",
              "    <tr>\n",
              "      <th>6</th>\n",
              "      <td>compassion</td>\n",
              "      <td>empathy</td>\n",
              "      <td>0.107143</td>\n",
              "    </tr>\n",
              "    <tr>\n",
              "      <th>7</th>\n",
              "      <td>willingness</td>\n",
              "      <td>empathy</td>\n",
              "      <td>0.107143</td>\n",
              "    </tr>\n",
              "    <tr>\n",
              "      <th>8</th>\n",
              "      <td>empathy</td>\n",
              "      <td>compassion</td>\n",
              "      <td>0.107143</td>\n",
              "    </tr>\n",
              "    <tr>\n",
              "      <th>9</th>\n",
              "      <td>empathy</td>\n",
              "      <td>willingness</td>\n",
              "      <td>0.107143</td>\n",
              "    </tr>\n",
              "  </tbody>\n",
              "</table>\n",
              "</div>"
            ],
            "text/plain": [
              "             word1            word2  syn score\n",
              "0       compromise         teamwork   0.145833\n",
              "1         teamwork       compromise   0.145833\n",
              "2  trustworthiness      willingness   0.111111\n",
              "3      willingness  trustworthiness   0.111111\n",
              "4      achievement         teamwork   0.111111\n",
              "5         teamwork      achievement   0.111111\n",
              "6       compassion          empathy   0.107143\n",
              "7      willingness          empathy   0.107143\n",
              "8          empathy       compassion   0.107143\n",
              "9          empathy      willingness   0.107143"
            ]
          },
          "execution_count": 29,
          "metadata": {},
          "output_type": "execute_result"
        }
      ]
    },
    {
      "cell_type": "code",
      "metadata": {
        "colab": {
          "base_uri": "https://localhost:8080/",
          "height": 357
        },
        "id": "-TpkDjS4-Qvu",
        "outputId": "ebc320b5-2caa-4739-f4f5-860620cb77cf"
      },
      "source": [
        "pd.DataFrame(sorted_syn_scores, columns =['word1', 'word2', 'syn score']).tail(10)"
      ],
      "execution_count": null,
      "outputs": [
        {
          "data": {
            "text/html": [
              "<div>\n",
              "<style scoped>\n",
              "    .dataframe tbody tr th:only-of-type {\n",
              "        vertical-align: middle;\n",
              "    }\n",
              "\n",
              "    .dataframe tbody tr th {\n",
              "        vertical-align: top;\n",
              "    }\n",
              "\n",
              "    .dataframe thead th {\n",
              "        text-align: right;\n",
              "    }\n",
              "</style>\n",
              "<table border=\"1\" class=\"dataframe\">\n",
              "  <thead>\n",
              "    <tr style=\"text-align: right;\">\n",
              "      <th></th>\n",
              "      <th>word1</th>\n",
              "      <th>word2</th>\n",
              "      <th>syn score</th>\n",
              "    </tr>\n",
              "  </thead>\n",
              "  <tbody>\n",
              "    <tr>\n",
              "      <th>13796</th>\n",
              "      <td>intelligence</td>\n",
              "      <td>together</td>\n",
              "      <td>0.0</td>\n",
              "    </tr>\n",
              "    <tr>\n",
              "      <th>13797</th>\n",
              "      <td>intelligence</td>\n",
              "      <td>underprivileged</td>\n",
              "      <td>0.0</td>\n",
              "    </tr>\n",
              "    <tr>\n",
              "      <th>13798</th>\n",
              "      <td>intelligence</td>\n",
              "      <td>stressful</td>\n",
              "      <td>0.0</td>\n",
              "    </tr>\n",
              "    <tr>\n",
              "      <th>13799</th>\n",
              "      <td>intelligence</td>\n",
              "      <td>different</td>\n",
              "      <td>0.0</td>\n",
              "    </tr>\n",
              "    <tr>\n",
              "      <th>13800</th>\n",
              "      <td>intelligence</td>\n",
              "      <td>political</td>\n",
              "      <td>0.0</td>\n",
              "    </tr>\n",
              "    <tr>\n",
              "      <th>13801</th>\n",
              "      <td>intelligence</td>\n",
              "      <td>polite</td>\n",
              "      <td>0.0</td>\n",
              "    </tr>\n",
              "    <tr>\n",
              "      <th>13802</th>\n",
              "      <td>intelligence</td>\n",
              "      <td>selfless</td>\n",
              "      <td>0.0</td>\n",
              "    </tr>\n",
              "    <tr>\n",
              "      <th>13803</th>\n",
              "      <td>intelligence</td>\n",
              "      <td>able</td>\n",
              "      <td>0.0</td>\n",
              "    </tr>\n",
              "    <tr>\n",
              "      <th>13804</th>\n",
              "      <td>intelligence</td>\n",
              "      <td>logical</td>\n",
              "      <td>0.0</td>\n",
              "    </tr>\n",
              "    <tr>\n",
              "      <th>13805</th>\n",
              "      <td>intelligence</td>\n",
              "      <td>sure</td>\n",
              "      <td>0.0</td>\n",
              "    </tr>\n",
              "  </tbody>\n",
              "</table>\n",
              "</div>"
            ],
            "text/plain": [
              "              word1            word2  syn score\n",
              "13796  intelligence         together        0.0\n",
              "13797  intelligence  underprivileged        0.0\n",
              "13798  intelligence        stressful        0.0\n",
              "13799  intelligence        different        0.0\n",
              "13800  intelligence        political        0.0\n",
              "13801  intelligence           polite        0.0\n",
              "13802  intelligence         selfless        0.0\n",
              "13803  intelligence             able        0.0\n",
              "13804  intelligence          logical        0.0\n",
              "13805  intelligence             sure        0.0"
            ]
          },
          "execution_count": 30,
          "metadata": {},
          "output_type": "execute_result"
        }
      ]
    },
    {
      "cell_type": "code",
      "metadata": {
        "id": "-DpzdfEfgJoo"
      },
      "source": [
        "word_syn_score = []\n",
        "\n",
        "for i in range(len(vocab)):\n",
        "  t = 0\n",
        "  for j in range(37):\n",
        "    t = t + syn_score[j+37*i][2]\n",
        "  word_syn_score.append([vocab[i],t/37])\n",
        "\n",
        "sorted_syn_scores = sorted(word_syn_score, key=lambda x: x[1])\n",
        "sorted_syn_scores.reverse()"
      ],
      "execution_count": null,
      "outputs": []
    },
    {
      "cell_type": "code",
      "metadata": {
        "colab": {
          "base_uri": "https://localhost:8080/"
        },
        "id": "YINlZePGF3Rv",
        "outputId": "46cab68a-43d0-4e1c-cee1-d19f839d1585"
      },
      "source": [
        "predicted_words = []\n",
        "for i in range(10):\n",
        "  predicted_words.append(sorted_syn_scores[i][0])\n",
        "\n",
        "score(predicted_words)"
      ],
      "execution_count": null,
      "outputs": [
        {
          "data": {
            "text/plain": [
              "0.8803220909168475"
            ]
          },
          "execution_count": 52,
          "metadata": {},
          "output_type": "execute_result"
        }
      ]
    },
    {
      "cell_type": "code",
      "metadata": {
        "colab": {
          "base_uri": "https://localhost:8080/",
          "height": 357
        },
        "id": "0Jv4emviWBB5",
        "outputId": "ade8f39e-f6f5-4d51-fcf4-19dea1c7c6d3"
      },
      "source": [
        "pd.DataFrame(sorted_syn_scores, columns =['word', 'syn score']).head(10)"
      ],
      "execution_count": null,
      "outputs": [
        {
          "data": {
            "text/html": [
              "<div>\n",
              "<style scoped>\n",
              "    .dataframe tbody tr th:only-of-type {\n",
              "        vertical-align: middle;\n",
              "    }\n",
              "\n",
              "    .dataframe tbody tr th {\n",
              "        vertical-align: top;\n",
              "    }\n",
              "\n",
              "    .dataframe thead th {\n",
              "        text-align: right;\n",
              "    }\n",
              "</style>\n",
              "<table border=\"1\" class=\"dataframe\">\n",
              "  <thead>\n",
              "    <tr style=\"text-align: right;\">\n",
              "      <th></th>\n",
              "      <th>word</th>\n",
              "      <th>syn score</th>\n",
              "    </tr>\n",
              "  </thead>\n",
              "  <tbody>\n",
              "    <tr>\n",
              "      <th>0</th>\n",
              "      <td>country</td>\n",
              "      <td>0.025760</td>\n",
              "    </tr>\n",
              "    <tr>\n",
              "      <th>1</th>\n",
              "      <td>situations</td>\n",
              "      <td>0.021369</td>\n",
              "    </tr>\n",
              "    <tr>\n",
              "      <th>2</th>\n",
              "      <td>confident</td>\n",
              "      <td>0.019697</td>\n",
              "    </tr>\n",
              "    <tr>\n",
              "      <th>3</th>\n",
              "      <td>president</td>\n",
              "      <td>0.014380</td>\n",
              "    </tr>\n",
              "    <tr>\n",
              "      <th>4</th>\n",
              "      <td>stressful</td>\n",
              "      <td>0.013645</td>\n",
              "    </tr>\n",
              "    <tr>\n",
              "      <th>5</th>\n",
              "      <td>determination</td>\n",
              "      <td>0.013553</td>\n",
              "    </tr>\n",
              "    <tr>\n",
              "      <th>6</th>\n",
              "      <td>international</td>\n",
              "      <td>0.012678</td>\n",
              "    </tr>\n",
              "    <tr>\n",
              "      <th>7</th>\n",
              "      <td>passion</td>\n",
              "      <td>0.011500</td>\n",
              "    </tr>\n",
              "    <tr>\n",
              "      <th>8</th>\n",
              "      <td>skills</td>\n",
              "      <td>0.011062</td>\n",
              "    </tr>\n",
              "    <tr>\n",
              "      <th>9</th>\n",
              "      <td>basic</td>\n",
              "      <td>0.010229</td>\n",
              "    </tr>\n",
              "  </tbody>\n",
              "</table>\n",
              "</div>"
            ],
            "text/plain": [
              "            word  syn score\n",
              "0        country   0.025760\n",
              "1     situations   0.021369\n",
              "2      confident   0.019697\n",
              "3      president   0.014380\n",
              "4      stressful   0.013645\n",
              "5  determination   0.013553\n",
              "6  international   0.012678\n",
              "7        passion   0.011500\n",
              "8         skills   0.011062\n",
              "9          basic   0.010229"
            ]
          },
          "execution_count": 32,
          "metadata": {},
          "output_type": "execute_result"
        }
      ]
    },
    {
      "cell_type": "code",
      "metadata": {
        "colab": {
          "base_uri": "https://localhost:8080/",
          "height": 357
        },
        "id": "8qSlaHhc-LUu",
        "outputId": "e183f0c8-98ea-47c9-ba40-61c478e24acb"
      },
      "source": [
        "pd.DataFrame(sorted_syn_scores, columns =['word', 'syn score']).tail(10)"
      ],
      "execution_count": null,
      "outputs": [
        {
          "data": {
            "text/html": [
              "<div>\n",
              "<style scoped>\n",
              "    .dataframe tbody tr th:only-of-type {\n",
              "        vertical-align: middle;\n",
              "    }\n",
              "\n",
              "    .dataframe tbody tr th {\n",
              "        vertical-align: top;\n",
              "    }\n",
              "\n",
              "    .dataframe thead th {\n",
              "        text-align: right;\n",
              "    }\n",
              "</style>\n",
              "<table border=\"1\" class=\"dataframe\">\n",
              "  <thead>\n",
              "    <tr style=\"text-align: right;\">\n",
              "      <th></th>\n",
              "      <th>word</th>\n",
              "      <th>syn score</th>\n",
              "    </tr>\n",
              "  </thead>\n",
              "  <tbody>\n",
              "    <tr>\n",
              "      <th>108</th>\n",
              "      <td>course</td>\n",
              "      <td>0.001499</td>\n",
              "    </tr>\n",
              "    <tr>\n",
              "      <th>109</th>\n",
              "      <td>politics</td>\n",
              "      <td>0.001314</td>\n",
              "    </tr>\n",
              "    <tr>\n",
              "      <th>110</th>\n",
              "      <td>dedication</td>\n",
              "      <td>0.001296</td>\n",
              "    </tr>\n",
              "    <tr>\n",
              "      <th>111</th>\n",
              "      <td>whole</td>\n",
              "      <td>0.001162</td>\n",
              "    </tr>\n",
              "    <tr>\n",
              "      <th>112</th>\n",
              "      <td>character</td>\n",
              "      <td>0.000963</td>\n",
              "    </tr>\n",
              "    <tr>\n",
              "      <th>113</th>\n",
              "      <td>background</td>\n",
              "      <td>0.000721</td>\n",
              "    </tr>\n",
              "    <tr>\n",
              "      <th>114</th>\n",
              "      <td>proud</td>\n",
              "      <td>0.000602</td>\n",
              "    </tr>\n",
              "    <tr>\n",
              "      <th>115</th>\n",
              "      <td>easy</td>\n",
              "      <td>0.000540</td>\n",
              "    </tr>\n",
              "    <tr>\n",
              "      <th>116</th>\n",
              "      <td>uncommon</td>\n",
              "      <td>0.000499</td>\n",
              "    </tr>\n",
              "    <tr>\n",
              "      <th>117</th>\n",
              "      <td>individual</td>\n",
              "      <td>0.000379</td>\n",
              "    </tr>\n",
              "  </tbody>\n",
              "</table>\n",
              "</div>"
            ],
            "text/plain": [
              "           word  syn score\n",
              "108      course   0.001499\n",
              "109    politics   0.001314\n",
              "110  dedication   0.001296\n",
              "111       whole   0.001162\n",
              "112   character   0.000963\n",
              "113  background   0.000721\n",
              "114       proud   0.000602\n",
              "115        easy   0.000540\n",
              "116    uncommon   0.000499\n",
              "117  individual   0.000379"
            ]
          },
          "execution_count": 33,
          "metadata": {},
          "output_type": "execute_result"
        }
      ]
    },
    {
      "cell_type": "markdown",
      "metadata": {
        "id": "aBByv53Kizym"
      },
      "source": [
        "## Experiment 3 - Repeating Trial 1 using Derived Forms of Voabulary Words"
      ]
    },
    {
      "cell_type": "code",
      "metadata": {
        "id": "AaZU52pxkec1"
      },
      "source": [
        "def derived(words):\n",
        "\n",
        "  synsets = wn.synsets(words)\n",
        "\n",
        "  s = []\n",
        "  result = \"\"\n",
        "  for synset in synsets:\n",
        "      related = None\n",
        "      lemmas = synset.lemmas()\n",
        "      for lemma in lemmas:\n",
        "          forms = lemma.derivationally_related_forms()\n",
        "          for form in forms:\n",
        "              name = form.name()\n",
        "              s.append(name) \n",
        "\n",
        "  return s"
      ],
      "execution_count": null,
      "outputs": []
    },
    {
      "cell_type": "code",
      "metadata": {
        "id": "McbHUK31lEpx"
      },
      "source": [
        "der_vocab = []\n",
        "\n",
        "for i in vocab:\n",
        "  der_vocab.append([i, *derived(i)])"
      ],
      "execution_count": null,
      "outputs": []
    },
    {
      "cell_type": "code",
      "metadata": {
        "id": "sKJb2IFhzMBu"
      },
      "source": [
        "der_list = []\n",
        "for i in der_vocab:\n",
        "  for j in der_vocab:\n",
        "    t = 0\n",
        "    for k in i:\n",
        "      for l in j:\n",
        "        syn1 = wordnet.synsets(k)[0]\n",
        "        syn2 = wordnet.synsets(l)[0]\n",
        "        if syn1.wup_similarity(syn2):\n",
        "          t =+ syn1.wup_similarity(syn2)\n",
        "    der_list.append(t/(len(i)*len(j)))"
      ],
      "execution_count": null,
      "outputs": []
    },
    {
      "cell_type": "code",
      "metadata": {
        "colab": {
          "base_uri": "https://localhost:8080/",
          "height": 298
        },
        "id": "SK8Sm3KIlg7Z",
        "outputId": "4fdfd9ec-1b40-449a-e0f4-35e4c168fd2c"
      },
      "source": [
        "df = pd.DataFrame({\n",
        "    'der_list': der_list\n",
        "})\n",
        "\n",
        "df['der_list'].plot.hist(color='salmon', title='Similarity Visualization')"
      ],
      "execution_count": null,
      "outputs": [
        {
          "data": {
            "text/plain": [
              "<matplotlib.axes._subplots.AxesSubplot at 0x7f964b428090>"
            ]
          },
          "execution_count": 66,
          "metadata": {},
          "output_type": "execute_result"
        },
        {
          "data": {
            "image/png": "[encoded data removed]",
            "text/plain": [
              "<Figure size 432x288 with 1 Axes>"
            ]
          },
          "metadata": {},
          "output_type": "display_data"
        }
      ]
    },
    {
      "cell_type": "code",
      "metadata": {
        "id": "izISJtpUlg4W"
      },
      "source": [
        "der_score = []\n",
        "der_bad_score = []\n",
        "der_score_unique = []\n",
        "t = 0\n",
        "\n",
        "for i in vocab:\n",
        "  for j in vocab:\n",
        "    if i != j:\n",
        "      der_score.append([i, j, der_list[t]])\n",
        "    t = t + 1\n",
        "\n",
        "sorted_der_scores = sorted(der_score, key=lambda x: x[2])\n",
        "sorted_der_scores.reverse()"
      ],
      "execution_count": null,
      "outputs": []
    },
    {
      "cell_type": "code",
      "metadata": {
        "colab": {
          "base_uri": "https://localhost:8080/",
          "height": 357
        },
        "id": "rUje3P1hlgy4",
        "outputId": "56057dfd-a89a-4db3-aa34-c476aaf5e26c"
      },
      "source": [
        "pd.DataFrame(sorted_der_scores, columns =['word1', 'word2', 'der score']).head(10)"
      ],
      "execution_count": null,
      "outputs": [
        {
          "data": {
            "text/html": [
              "<div>\n",
              "<style scoped>\n",
              "    .dataframe tbody tr th:only-of-type {\n",
              "        vertical-align: middle;\n",
              "    }\n",
              "\n",
              "    .dataframe tbody tr th {\n",
              "        vertical-align: top;\n",
              "    }\n",
              "\n",
              "    .dataframe thead th {\n",
              "        text-align: right;\n",
              "    }\n",
              "</style>\n",
              "<table border=\"1\" class=\"dataframe\">\n",
              "  <thead>\n",
              "    <tr style=\"text-align: right;\">\n",
              "      <th></th>\n",
              "      <th>word1</th>\n",
              "      <th>word2</th>\n",
              "      <th>der score</th>\n",
              "    </tr>\n",
              "  </thead>\n",
              "  <tbody>\n",
              "    <tr>\n",
              "      <th>0</th>\n",
              "      <td>ethic</td>\n",
              "      <td>teamwork</td>\n",
              "      <td>0.352941</td>\n",
              "    </tr>\n",
              "    <tr>\n",
              "      <th>1</th>\n",
              "      <td>teamwork</td>\n",
              "      <td>ethic</td>\n",
              "      <td>0.352941</td>\n",
              "    </tr>\n",
              "    <tr>\n",
              "      <th>2</th>\n",
              "      <td>ethic</td>\n",
              "      <td>integrity</td>\n",
              "      <td>0.333333</td>\n",
              "    </tr>\n",
              "    <tr>\n",
              "      <th>3</th>\n",
              "      <td>integrity</td>\n",
              "      <td>ethic</td>\n",
              "      <td>0.333333</td>\n",
              "    </tr>\n",
              "    <tr>\n",
              "      <th>4</th>\n",
              "      <td>willingness</td>\n",
              "      <td>teamwork</td>\n",
              "      <td>0.312500</td>\n",
              "    </tr>\n",
              "    <tr>\n",
              "      <th>5</th>\n",
              "      <td>ethic</td>\n",
              "      <td>goals</td>\n",
              "      <td>0.312500</td>\n",
              "    </tr>\n",
              "    <tr>\n",
              "      <th>6</th>\n",
              "      <td>teamwork</td>\n",
              "      <td>willingness</td>\n",
              "      <td>0.312500</td>\n",
              "    </tr>\n",
              "    <tr>\n",
              "      <th>7</th>\n",
              "      <td>knowledge</td>\n",
              "      <td>ethic</td>\n",
              "      <td>0.285714</td>\n",
              "    </tr>\n",
              "    <tr>\n",
              "      <th>8</th>\n",
              "      <td>basic</td>\n",
              "      <td>teamwork</td>\n",
              "      <td>0.285714</td>\n",
              "    </tr>\n",
              "    <tr>\n",
              "      <th>9</th>\n",
              "      <td>ethic</td>\n",
              "      <td>knowledge</td>\n",
              "      <td>0.285714</td>\n",
              "    </tr>\n",
              "  </tbody>\n",
              "</table>\n",
              "</div>"
            ],
            "text/plain": [
              "         word1        word2  der score\n",
              "0        ethic     teamwork   0.352941\n",
              "1     teamwork        ethic   0.352941\n",
              "2        ethic    integrity   0.333333\n",
              "3    integrity        ethic   0.333333\n",
              "4  willingness     teamwork   0.312500\n",
              "5        ethic        goals   0.312500\n",
              "6     teamwork  willingness   0.312500\n",
              "7    knowledge        ethic   0.285714\n",
              "8        basic     teamwork   0.285714\n",
              "9        ethic    knowledge   0.285714"
            ]
          },
          "execution_count": 68,
          "metadata": {},
          "output_type": "execute_result"
        }
      ]
    },
    {
      "cell_type": "code",
      "metadata": {
        "colab": {
          "base_uri": "https://localhost:8080/",
          "height": 357
        },
        "id": "JGYbNn5OGYw4",
        "outputId": "3bf31737-5411-4805-e338-909b86baa988"
      },
      "source": [
        "pd.DataFrame(sorted_der_scores, columns =['word1', 'word2', 'der score']).tail(10)"
      ],
      "execution_count": null,
      "outputs": [
        {
          "data": {
            "text/html": [
              "<div>\n",
              "<style scoped>\n",
              "    .dataframe tbody tr th:only-of-type {\n",
              "        vertical-align: middle;\n",
              "    }\n",
              "\n",
              "    .dataframe tbody tr th {\n",
              "        vertical-align: top;\n",
              "    }\n",
              "\n",
              "    .dataframe thead th {\n",
              "        text-align: right;\n",
              "    }\n",
              "</style>\n",
              "<table border=\"1\" class=\"dataframe\">\n",
              "  <thead>\n",
              "    <tr style=\"text-align: right;\">\n",
              "      <th></th>\n",
              "      <th>word1</th>\n",
              "      <th>word2</th>\n",
              "      <th>der score</th>\n",
              "    </tr>\n",
              "  </thead>\n",
              "  <tbody>\n",
              "    <tr>\n",
              "      <th>13796</th>\n",
              "      <td>honesty</td>\n",
              "      <td>ulterior</td>\n",
              "      <td>0.0</td>\n",
              "    </tr>\n",
              "    <tr>\n",
              "      <th>13797</th>\n",
              "      <td>decisiveness</td>\n",
              "      <td>underprivileged</td>\n",
              "      <td>0.0</td>\n",
              "    </tr>\n",
              "    <tr>\n",
              "      <th>13798</th>\n",
              "      <td>decisiveness</td>\n",
              "      <td>stressful</td>\n",
              "      <td>0.0</td>\n",
              "    </tr>\n",
              "    <tr>\n",
              "      <th>13799</th>\n",
              "      <td>decisiveness</td>\n",
              "      <td>ulterior</td>\n",
              "      <td>0.0</td>\n",
              "    </tr>\n",
              "    <tr>\n",
              "      <th>13800</th>\n",
              "      <td>integrity</td>\n",
              "      <td>underprivileged</td>\n",
              "      <td>0.0</td>\n",
              "    </tr>\n",
              "    <tr>\n",
              "      <th>13801</th>\n",
              "      <td>integrity</td>\n",
              "      <td>stressful</td>\n",
              "      <td>0.0</td>\n",
              "    </tr>\n",
              "    <tr>\n",
              "      <th>13802</th>\n",
              "      <td>integrity</td>\n",
              "      <td>ulterior</td>\n",
              "      <td>0.0</td>\n",
              "    </tr>\n",
              "    <tr>\n",
              "      <th>13803</th>\n",
              "      <td>intelligence</td>\n",
              "      <td>underprivileged</td>\n",
              "      <td>0.0</td>\n",
              "    </tr>\n",
              "    <tr>\n",
              "      <th>13804</th>\n",
              "      <td>intelligence</td>\n",
              "      <td>stressful</td>\n",
              "      <td>0.0</td>\n",
              "    </tr>\n",
              "    <tr>\n",
              "      <th>13805</th>\n",
              "      <td>intelligence</td>\n",
              "      <td>ulterior</td>\n",
              "      <td>0.0</td>\n",
              "    </tr>\n",
              "  </tbody>\n",
              "</table>\n",
              "</div>"
            ],
            "text/plain": [
              "              word1            word2  der score\n",
              "13796       honesty         ulterior        0.0\n",
              "13797  decisiveness  underprivileged        0.0\n",
              "13798  decisiveness        stressful        0.0\n",
              "13799  decisiveness         ulterior        0.0\n",
              "13800     integrity  underprivileged        0.0\n",
              "13801     integrity        stressful        0.0\n",
              "13802     integrity         ulterior        0.0\n",
              "13803  intelligence  underprivileged        0.0\n",
              "13804  intelligence        stressful        0.0\n",
              "13805  intelligence         ulterior        0.0"
            ]
          },
          "execution_count": 69,
          "metadata": {},
          "output_type": "execute_result"
        }
      ]
    },
    {
      "cell_type": "code",
      "metadata": {
        "id": "sDnIdzIJmofQ"
      },
      "source": [
        "word_der_score = []\n",
        "\n",
        "for i in range(len(vocab)):\n",
        "  t = 0\n",
        "  for j in range(37):\n",
        "    t = t + der_score[j+37*i][2]\n",
        "  word_der_score.append([vocab[i],t])\n",
        "\n",
        "sorted_der_scores = sorted(word_der_score, key=lambda x: x[1])\n",
        "sorted_der_scores.reverse()"
      ],
      "execution_count": null,
      "outputs": []
    },
    {
      "cell_type": "code",
      "metadata": {
        "colab": {
          "base_uri": "https://localhost:8080/"
        },
        "id": "KO-gfJTIGiH4",
        "outputId": "8e18387a-abff-498b-f3c4-5a7c414cc99a"
      },
      "source": [
        "predicted_words = []\n",
        "for i in range(10):\n",
        "  predicted_words.append(sorted_der_scores[i][0])\n",
        "\n",
        "score(predicted_words)"
      ],
      "execution_count": null,
      "outputs": [
        {
          "data": {
            "text/plain": [
              "0.7239202565314041"
            ]
          },
          "execution_count": 71,
          "metadata": {},
          "output_type": "execute_result"
        }
      ]
    },
    {
      "cell_type": "code",
      "metadata": {
        "colab": {
          "base_uri": "https://localhost:8080/",
          "height": 357
        },
        "id": "mUEkdLObmytU",
        "outputId": "6b4ffb51-58bf-4d5d-b2f0-9befe389a66d"
      },
      "source": [
        "pd.DataFrame(sorted_der_scores, columns =['word', 'der score']).head(10)"
      ],
      "execution_count": null,
      "outputs": [
        {
          "data": {
            "text/html": [
              "<div>\n",
              "<style scoped>\n",
              "    .dataframe tbody tr th:only-of-type {\n",
              "        vertical-align: middle;\n",
              "    }\n",
              "\n",
              "    .dataframe tbody tr th {\n",
              "        vertical-align: top;\n",
              "    }\n",
              "\n",
              "    .dataframe thead th {\n",
              "        text-align: right;\n",
              "    }\n",
              "</style>\n",
              "<table border=\"1\" class=\"dataframe\">\n",
              "  <thead>\n",
              "    <tr style=\"text-align: right;\">\n",
              "      <th></th>\n",
              "      <th>word</th>\n",
              "      <th>der score</th>\n",
              "    </tr>\n",
              "  </thead>\n",
              "  <tbody>\n",
              "    <tr>\n",
              "      <th>0</th>\n",
              "      <td>country</td>\n",
              "      <td>2.289425</td>\n",
              "    </tr>\n",
              "    <tr>\n",
              "      <th>1</th>\n",
              "      <td>president</td>\n",
              "      <td>2.128388</td>\n",
              "    </tr>\n",
              "    <tr>\n",
              "      <th>2</th>\n",
              "      <td>eloquent</td>\n",
              "      <td>2.015897</td>\n",
              "    </tr>\n",
              "    <tr>\n",
              "      <th>3</th>\n",
              "      <td>confident</td>\n",
              "      <td>1.988610</td>\n",
              "    </tr>\n",
              "    <tr>\n",
              "      <th>4</th>\n",
              "      <td>capable</td>\n",
              "      <td>1.839924</td>\n",
              "    </tr>\n",
              "    <tr>\n",
              "      <th>5</th>\n",
              "      <td>run</td>\n",
              "      <td>1.756437</td>\n",
              "    </tr>\n",
              "    <tr>\n",
              "      <th>6</th>\n",
              "      <td>friendly</td>\n",
              "      <td>1.509394</td>\n",
              "    </tr>\n",
              "    <tr>\n",
              "      <th>7</th>\n",
              "      <td>honesty</td>\n",
              "      <td>1.475851</td>\n",
              "    </tr>\n",
              "    <tr>\n",
              "      <th>8</th>\n",
              "      <td>international</td>\n",
              "      <td>1.381892</td>\n",
              "    </tr>\n",
              "    <tr>\n",
              "      <th>9</th>\n",
              "      <td>situations</td>\n",
              "      <td>1.294031</td>\n",
              "    </tr>\n",
              "  </tbody>\n",
              "</table>\n",
              "</div>"
            ],
            "text/plain": [
              "            word  der score\n",
              "0        country   2.289425\n",
              "1      president   2.128388\n",
              "2       eloquent   2.015897\n",
              "3      confident   1.988610\n",
              "4        capable   1.839924\n",
              "5            run   1.756437\n",
              "6       friendly   1.509394\n",
              "7        honesty   1.475851\n",
              "8  international   1.381892\n",
              "9     situations   1.294031"
            ]
          },
          "execution_count": 72,
          "metadata": {},
          "output_type": "execute_result"
        }
      ]
    },
    {
      "cell_type": "code",
      "metadata": {
        "colab": {
          "base_uri": "https://localhost:8080/",
          "height": 357
        },
        "id": "8u9KNDmllgvn",
        "outputId": "7a0a864c-7670-455e-8cda-9168a1fe7e5e"
      },
      "source": [
        "pd.DataFrame(sorted_der_scores, columns =['word', 'der score']).tail(10)"
      ],
      "execution_count": null,
      "outputs": [
        {
          "data": {
            "text/html": [
              "<div>\n",
              "<style scoped>\n",
              "    .dataframe tbody tr th:only-of-type {\n",
              "        vertical-align: middle;\n",
              "    }\n",
              "\n",
              "    .dataframe tbody tr th {\n",
              "        vertical-align: top;\n",
              "    }\n",
              "\n",
              "    .dataframe thead th {\n",
              "        text-align: right;\n",
              "    }\n",
              "</style>\n",
              "<table border=\"1\" class=\"dataframe\">\n",
              "  <thead>\n",
              "    <tr style=\"text-align: right;\">\n",
              "      <th></th>\n",
              "      <th>word</th>\n",
              "      <th>der score</th>\n",
              "    </tr>\n",
              "  </thead>\n",
              "  <tbody>\n",
              "    <tr>\n",
              "      <th>108</th>\n",
              "      <td>compassion</td>\n",
              "      <td>0.058406</td>\n",
              "    </tr>\n",
              "    <tr>\n",
              "      <th>109</th>\n",
              "      <td>office</td>\n",
              "      <td>0.058014</td>\n",
              "    </tr>\n",
              "    <tr>\n",
              "      <th>110</th>\n",
              "      <td>different</td>\n",
              "      <td>0.052520</td>\n",
              "    </tr>\n",
              "    <tr>\n",
              "      <th>111</th>\n",
              "      <td>able</td>\n",
              "      <td>0.051848</td>\n",
              "    </tr>\n",
              "    <tr>\n",
              "      <th>112</th>\n",
              "      <td>term</td>\n",
              "      <td>0.048894</td>\n",
              "    </tr>\n",
              "    <tr>\n",
              "      <th>113</th>\n",
              "      <td>course</td>\n",
              "      <td>0.029058</td>\n",
              "    </tr>\n",
              "    <tr>\n",
              "      <th>114</th>\n",
              "      <td>character</td>\n",
              "      <td>0.026043</td>\n",
              "    </tr>\n",
              "    <tr>\n",
              "      <th>115</th>\n",
              "      <td>individual</td>\n",
              "      <td>0.018621</td>\n",
              "    </tr>\n",
              "    <tr>\n",
              "      <th>116</th>\n",
              "      <td>easy</td>\n",
              "      <td>0.014114</td>\n",
              "    </tr>\n",
              "    <tr>\n",
              "      <th>117</th>\n",
              "      <td>uncommon</td>\n",
              "      <td>0.013472</td>\n",
              "    </tr>\n",
              "  </tbody>\n",
              "</table>\n",
              "</div>"
            ],
            "text/plain": [
              "           word  der score\n",
              "108  compassion   0.058406\n",
              "109      office   0.058014\n",
              "110   different   0.052520\n",
              "111        able   0.051848\n",
              "112        term   0.048894\n",
              "113      course   0.029058\n",
              "114   character   0.026043\n",
              "115  individual   0.018621\n",
              "116        easy   0.014114\n",
              "117    uncommon   0.013472"
            ]
          },
          "execution_count": 73,
          "metadata": {},
          "output_type": "execute_result"
        }
      ]
    },
    {
      "cell_type": "markdown",
      "metadata": {
        "id": "n8uzP_MJNz4H"
      },
      "source": [
        "## Experiment 4 - TFSYNDER: A Combination of trials 2, 3 and tf"
      ]
    },
    {
      "cell_type": "code",
      "metadata": {
        "colab": {
          "base_uri": "https://localhost:8080/",
          "height": 357
        },
        "id": "wxDgYBB9N6nG",
        "outputId": "14f88724-757c-495e-f9ec-398172844a61"
      },
      "source": [
        "tfsynder = []\n",
        "for i in vocab:\n",
        "  for j in sorted_syn_scores:\n",
        "    if j[0] == i:\n",
        "      for k in sorted_der_scores:\n",
        "        if k[0] == i:\n",
        "          tfsynder.append([i, (count[vocab.index(i)]/len(total_vocab))*j[1]*k[1]])\n",
        "\n",
        "sorted_tfsynder = sorted(tfsynder, key=lambda x: x[1])\n",
        "sorted_tfsynder.reverse()\n",
        "pd.DataFrame(sorted_tfsynder, columns =['word', 'tfsynder score']).head(10)"
      ],
      "execution_count": null,
      "outputs": [
        {
          "data": {
            "text/html": [
              "<div>\n",
              "<style scoped>\n",
              "    .dataframe tbody tr th:only-of-type {\n",
              "        vertical-align: middle;\n",
              "    }\n",
              "\n",
              "    .dataframe tbody tr th {\n",
              "        vertical-align: top;\n",
              "    }\n",
              "\n",
              "    .dataframe thead th {\n",
              "        text-align: right;\n",
              "    }\n",
              "</style>\n",
              "<table border=\"1\" class=\"dataframe\">\n",
              "  <thead>\n",
              "    <tr style=\"text-align: right;\">\n",
              "      <th></th>\n",
              "      <th>word</th>\n",
              "      <th>tfsynder score</th>\n",
              "    </tr>\n",
              "  </thead>\n",
              "  <tbody>\n",
              "    <tr>\n",
              "      <th>0</th>\n",
              "      <td>country</td>\n",
              "      <td>0.001000</td>\n",
              "    </tr>\n",
              "    <tr>\n",
              "      <th>1</th>\n",
              "      <td>president</td>\n",
              "      <td>0.000692</td>\n",
              "    </tr>\n",
              "    <tr>\n",
              "      <th>2</th>\n",
              "      <td>honesty</td>\n",
              "      <td>0.000578</td>\n",
              "    </tr>\n",
              "    <tr>\n",
              "      <th>3</th>\n",
              "      <td>confident</td>\n",
              "      <td>0.000221</td>\n",
              "    </tr>\n",
              "    <tr>\n",
              "      <th>4</th>\n",
              "      <td>determination</td>\n",
              "      <td>0.000204</td>\n",
              "    </tr>\n",
              "    <tr>\n",
              "      <th>5</th>\n",
              "      <td>situations</td>\n",
              "      <td>0.000156</td>\n",
              "    </tr>\n",
              "    <tr>\n",
              "      <th>6</th>\n",
              "      <td>stressful</td>\n",
              "      <td>0.000100</td>\n",
              "    </tr>\n",
              "    <tr>\n",
              "      <th>7</th>\n",
              "      <td>international</td>\n",
              "      <td>0.000099</td>\n",
              "    </tr>\n",
              "    <tr>\n",
              "      <th>8</th>\n",
              "      <td>intelligence</td>\n",
              "      <td>0.000091</td>\n",
              "    </tr>\n",
              "    <tr>\n",
              "      <th>9</th>\n",
              "      <td>ability</td>\n",
              "      <td>0.000081</td>\n",
              "    </tr>\n",
              "  </tbody>\n",
              "</table>\n",
              "</div>"
            ],
            "text/plain": [
              "            word  tfsynder score\n",
              "0        country        0.001000\n",
              "1      president        0.000692\n",
              "2        honesty        0.000578\n",
              "3      confident        0.000221\n",
              "4  determination        0.000204\n",
              "5     situations        0.000156\n",
              "6      stressful        0.000100\n",
              "7  international        0.000099\n",
              "8   intelligence        0.000091\n",
              "9        ability        0.000081"
            ]
          },
          "execution_count": 75,
          "metadata": {},
          "output_type": "execute_result"
        }
      ]
    },
    {
      "cell_type": "code",
      "metadata": {
        "colab": {
          "base_uri": "https://localhost:8080/"
        },
        "id": "C6Wh5dpfLGLy",
        "outputId": "500088ac-5841-43db-8a42-ced5c6e7953d"
      },
      "source": [
        "predicted_words = []\n",
        "for i in range(10):\n",
        "  predicted_words.append(sorted_tfsynder[i][0])\n",
        "\n",
        "score(predicted_words)"
      ],
      "execution_count": null,
      "outputs": [
        {
          "data": {
            "text/plain": [
              "0.9084791612553104"
            ]
          },
          "execution_count": 76,
          "metadata": {},
          "output_type": "execute_result"
        }
      ]
    },
    {
      "cell_type": "markdown",
      "metadata": {
        "id": "_gkkY3N_gqvK"
      },
      "source": [
        "## Trial 5 - KMeans with Unigrams"
      ]
    },
    {
      "cell_type": "code",
      "metadata": {
        "colab": {
          "base_uri": "https://localhost:8080/"
        },
        "id": "a3LuUufk4zBs",
        "outputId": "d0ed3473-5f81-42ae-9ca0-911f6cc4945e"
      },
      "source": [
        "#TF-IDF vectorizer\n",
        "tfv = TfidfVectorizer(ngram_range = (1,1))#transform\n",
        "vec_text = tfv.fit_transform(total_vocab)#returns a list of words.\n",
        "words = tfv.get_feature_names()"
      ],
      "execution_count": null,
      "outputs": [
        {
          "name": "stderr",
          "output_type": "stream",
          "text": [
            "/usr/local/lib/python3.7/dist-packages/sklearn/utils/deprecation.py:87: FutureWarning: Function get_feature_names is deprecated; get_feature_names is deprecated in 1.0 and will be removed in 1.2. Please use get_feature_names_out instead.\n",
            "  warnings.warn(msg, category=FutureWarning)\n"
          ]
        }
      ]
    },
    {
      "cell_type": "code",
      "metadata": {
        "id": "hiPWcPX182Au"
      },
      "source": [
        "sum_of_squared_distances = []\n",
        "K = range(1,100)\n",
        "for k in K:\n",
        "  km = KMeans(n_clusters = k)\n",
        "  km = km.fit(vec_text)\n",
        "  sum_of_squared_distances.append(km.inertia_)"
      ],
      "execution_count": null,
      "outputs": []
    },
    {
      "cell_type": "code",
      "metadata": {
        "colab": {
          "base_uri": "https://localhost:8080/",
          "height": 295
        },
        "id": "dyEEqvDY9m6X",
        "outputId": "9658734e-884b-407a-9743-179ccaa63c72"
      },
      "source": [
        "import matplotlib.pyplot as plt\n",
        "\n",
        "plt.plot(K, sum_of_squared_distances, 'bx-')\n",
        "plt.xlabel('k')\n",
        "plt.ylabel('sum of squared distances')\n",
        "plt.title('Elbow Method for k value')\n",
        "plt.show()"
      ],
      "execution_count": null,
      "outputs": [
        {
          "data": {
            "image/png": "[encoded data removed]",
            "text/plain": [
              "<Figure size 432x288 with 1 Axes>"
            ]
          },
          "metadata": {},
          "output_type": "display_data"
        }
      ]
    },
    {
      "cell_type": "code",
      "metadata": {
        "colab": {
          "base_uri": "https://localhost:8080/"
        },
        "id": "nebisWE8zMMN",
        "outputId": "1dcbdaea-16bc-40ba-a1c7-8d387346bafa"
      },
      "source": [
        "#setup kmeans clustering\n",
        "kmeans = KMeans(n_clusters = 15, init = 'random', n_init = 100, max_iter = 500)#fit the data \n",
        "kmeans.fit(vec_text)#this loop transforms the numbers back into words\n",
        "common_words = kmeans.cluster_centers_.argsort()[:,-1:-11:-1]\n",
        "for num, centroid in enumerate(common_words):\n",
        "    print(str(num) + ' : ' + ', '.join(words[word] for word in centroid))"
      ],
      "execution_count": null,
      "outputs": [
        {
          "name": "stdout",
          "output_type": "stream",
          "text": [
            "0 : good, president, experience, ability, integrity, people, different, compassion, skills, decisiveness\n",
            "1 : determination, hard, different, diplomacy, eloquent, empathy, equality, ethic, experience, friendly\n",
            "2 : understanding, working, hard, different, diplomacy, eloquent, empathy, equality, ethic, experience\n",
            "3 : leadership, hard, different, diplomacy, eloquent, empathy, equality, ethic, experience, friendly\n",
            "4 : country, working, hard, diplomacy, eloquent, empathy, equality, ethic, experience, friendly\n",
            "5 : someone, working, groups, different, diplomacy, eloquent, empathy, equality, ethic, experience\n",
            "6 : honesty, working, hard, different, diplomacy, eloquent, empathy, equality, ethic, experience\n",
            "7 : knowledge, working, hard, different, diplomacy, eloquent, empathy, equality, ethic, experience\n",
            "8 : polite, hard, different, diplomacy, eloquent, empathy, equality, ethic, experience, friendly\n",
            "9 : smart, working, groups, different, diplomacy, eloquent, empathy, equality, ethic, experience\n",
            "10 : intelligence, working, hard, different, diplomacy, eloquent, empathy, equality, ethic, experience\n",
            "11 : idiot, working, hard, different, diplomacy, eloquent, empathy, equality, ethic, experience\n",
            "12 : sure, working, groups, different, diplomacy, eloquent, empathy, equality, ethic, experience\n",
            "13 : morality, working, hard, different, diplomacy, eloquent, empathy, equality, ethic, experience\n",
            "14 : common, working, hard, diplomacy, eloquent, empathy, equality, ethic, experience, friendly\n"
          ]
        }
      ]
    },
    {
      "cell_type": "code",
      "metadata": {
        "colab": {
          "base_uri": "https://localhost:8080/"
        },
        "id": "AfwZpralMLop",
        "outputId": "1b96ea26-81e5-451d-8962-65523104fd75"
      },
      "source": [
        "kmeans.score(vec_text)"
      ],
      "execution_count": null,
      "outputs": [
        {
          "data": {
            "text/plain": [
              "-130.3880597014924"
            ]
          },
          "execution_count": 88,
          "metadata": {},
          "output_type": "execute_result"
        }
      ]
    },
    {
      "cell_type": "markdown",
      "metadata": {
        "id": "RN5wAiBKNDLt"
      },
      "source": [
        "## Experiment 6 - KMeans extended to Bi-gram Phrases, Synonyms and Derived Forms"
      ]
    },
    {
      "cell_type": "code",
      "metadata": {
        "id": "57HkDGhlSnEM"
      },
      "source": [
        "def synonyms(word):\n",
        "  \n",
        "  t = 0\n",
        "  synonyms = []\n",
        "  for syn in wordnet.synsets(word):\n",
        "    for l in syn.lemmas():\n",
        "      if l.name() not in synonyms and t < n:\n",
        "        synonyms.append(l.name())\n",
        "        t = t+1\n",
        "\n",
        "  return synonyms\n",
        "\n",
        "def derived(words):\n",
        "\n",
        "  synsets = wn.synsets(words)\n",
        "\n",
        "  s = []\n",
        "  result = \"\"\n",
        "  for synset in synsets:\n",
        "      related = None\n",
        "      lemmas = synset.lemmas()\n",
        "      for lemma in lemmas:\n",
        "          forms = lemma.derivationally_related_forms()\n",
        "          for form in forms:\n",
        "              name = form.name()\n",
        "              if name not in s:\n",
        "                s.append(name)\n",
        "          if len(s) > n-1:\n",
        "            break\n",
        "\n",
        "      else:\n",
        "        continue\n",
        "      break\n",
        "\n",
        "  return s"
      ],
      "execution_count": null,
      "outputs": []
    },
    {
      "cell_type": "code",
      "metadata": {
        "id": "wLu4S8_Zx6o9"
      },
      "source": [
        "extended_vocab = []\n",
        "extended_vocab = total_vocab\n",
        "\n",
        "for i in range(len(total_vocab)-1):\n",
        "  t = str(total_vocab[i]+'_'+total_vocab[i+1])\n",
        "  if wn.synsets(t):\n",
        "    extended_vocab.append(t)"
      ],
      "execution_count": null,
      "outputs": []
    },
    {
      "cell_type": "code",
      "metadata": {
        "id": "BtsptNSvlgqW"
      },
      "source": [
        "der_set = []\n",
        "syn_set = []\n",
        "n = 10\n",
        "\n",
        "for i in vocab:\n",
        "  if synonyms(i):\n",
        "    syn_set = synonyms(i)\n",
        "  if derived(i):\n",
        "    der_set = derived(i)\n",
        "  for j in syn_set:\n",
        "    extended_vocab.append(j)\n",
        "  for k in der_set:\n",
        "    extended_vocab.append(k)"
      ],
      "execution_count": null,
      "outputs": []
    },
    {
      "cell_type": "code",
      "metadata": {
        "colab": {
          "base_uri": "https://localhost:8080/"
        },
        "id": "1qpwCPoB0G2f",
        "outputId": "5f82a8b1-5ee1-4898-b842-df8f0bac4595"
      },
      "source": [
        "#TF-IDF vectorizer\n",
        "tfv = TfidfVectorizer(ngram_range = (1,1))#transform\n",
        "vec_text = tfv.fit_transform(extended_vocab)#returns a list of words.\n",
        "words = tfv.get_feature_names()"
      ],
      "execution_count": null,
      "outputs": [
        {
          "output_type": "stream",
          "name": "stderr",
          "text": [
            "/usr/local/lib/python3.7/dist-packages/sklearn/utils/deprecation.py:87: FutureWarning: Function get_feature_names is deprecated; get_feature_names is deprecated in 1.0 and will be removed in 1.2. Please use get_feature_names_out instead.\n",
            "  warnings.warn(msg, category=FutureWarning)\n"
          ]
        }
      ]
    },
    {
      "cell_type": "code",
      "metadata": {
        "id": "Xs4n8wFd0Vzz"
      },
      "source": [
        "sum_of_squared_distances = []\n",
        "K = range(100,1000,20)\n",
        "for k in K:\n",
        "  km = KMeans(n_clusters = k)\n",
        "  km = km.fit(vec_text)\n",
        "  sum_of_squared_distances.append(km.inertia_)"
      ],
      "execution_count": null,
      "outputs": []
    },
    {
      "cell_type": "code",
      "metadata": {
        "colab": {
          "base_uri": "https://localhost:8080/",
          "height": 295
        },
        "id": "rCiwuCW10bYs",
        "outputId": "f02dd454-7627-46db-e73b-30557ab27ff7"
      },
      "source": [
        "plt.plot(K, sum_of_squared_distances, 'bx-')\n",
        "plt.xlabel('k')\n",
        "plt.ylabel('sum of squared distances')\n",
        "plt.title('Elbow Method for k value')\n",
        "plt.show()"
      ],
      "execution_count": null,
      "outputs": [
        {
          "output_type": "display_data",
          "data": {
            "image/png": "[encoded data removed]",
            "text/plain": [
              "<Figure size 432x288 with 1 Axes>"
            ]
          },
          "metadata": {
            "needs_background": "light"
          }
        }
      ]
    },
    {
      "cell_type": "code",
      "metadata": {
        "colab": {
          "base_uri": "https://localhost:8080/"
        },
        "id": "CT2P3um40fGq",
        "outputId": "e9538f91-8d77-4a41-8624-1efaa27483c3"
      },
      "source": [
        "#setup kmeans clustering\n",
        "kmeans = KMeans(n_clusters = 300, init = 'random', n_init = 100, max_iter = 500)#fit the data \n",
        "kmeans.fit(vec_text)#this loop transforms the numbers back into words\n",
        "common_words = kmeans.cluster_centers_.argsort()[:,-1:-11:-1]\n",
        "for num, centroid in enumerate(common_words):\n",
        "    print(str(num) + ' : ' + ', '.join(words[word] for word in centroid))"
      ],
      "execution_count": null,
      "outputs": [
        {
          "output_type": "stream",
          "name": "stdout",
          "text": [
            "0 : able, silver, sure, important, prosperity, bodied, footed, all, tongued, wracking\n",
            "1 : serving, wracking, fashioning, figure_out, fictitious_character, fictional_character, fibre, fiber, feelings, feeling\n",
            "2 : intelligence, wracking, feeling, fear, fearless, fearlessness, federal_agency, feel, feelings, find\n",
            "3 : soft, wracking, feelings, fear, fearless, fearlessness, federal_agency, feel, feeling, fiber\n",
            "4 : think, wracking, feelings, fearless, fearlessness, federal_agency, feel, feeling, fiber, finding\n",
            "5 : love, wracking, feeling, fear, fearless, fearlessness, federal_agency, feel, feelings, fashioning\n",
            "6 : par, wracking, fiber, fearless, fearlessness, federal_agency, feel, feeling, feelings, fibre\n",
            "7 : good, wracking, favorable, final, figure_out, fictitious_character, fictional_character, fibre, fiber, feelings\n",
            "8 : junction, favorable, finality, final, figure_out, fictitious_character, fictional_character, fibre, fiber, feelings\n",
            "9 : science, wracking, feeling, fear, fearless, fearlessness, federal_agency, feel, feelings, fashioning\n",
            "10 : somebody, wracking, feeling, fear, fearless, fearlessness, federal_agency, feel, feelings, fashioning\n",
            "11 : tranquillize, wracking, favorable, final, figure_out, fictitious_character, fictional_character, fibre, fiber, feelings\n",
            "12 : give_care, wracking, feeling, fear, fearless, fearlessness, federal_agency, feel, feelings, fashioning\n",
            "13 : civility, wracking, feelings, fearless, fearlessness, federal_agency, feel, feeling, fiber, favorable\n",
            "14 : server, wracking, fashioning, figure_out, fictitious_character, fictional_character, fibre, fiber, feelings, feeling\n",
            "15 : bearer, wracking, finality, final, figure_out, fictitious_character, fictional_character, fibre, fiber, feelings\n",
            "16 : feel, wracking, favorable, finality, final, figure_out, fictitious_character, fictional_character, fibre, fiber\n",
            "17 : constitute, wracking, fear, fearless, fearlessness, federal_agency, feel, feeling, feelings, fashioning\n",
            "18 : musical_theme, fear, find, finality, final, figure_out, fictitious_character, fictional_character, fibre, fiber\n",
            "19 : full, favorable, finality, final, figure_out, fictitious_character, fictional_character, fibre, fiber, feelings\n",
            "20 : attender, favorable, finality, final, figure_out, fictitious_character, fictional_character, fibre, fiber, feelings\n",
            "21 : campaign, wracking, fear, finality, final, figure_out, fictitious_character, fictional_character, fibre, fiber\n",
            "22 : someone, fashioning, final, figure_out, fictitious_character, fictional_character, fibre, fiber, feelings, feeling\n",
            "23 : lull, wracking, feelings, fear, fearless, fearlessness, federal_agency, feel, feeling, fiber\n",
            "24 : treat, fashioning, final, figure_out, fictitious_character, fictional_character, fibre, fiber, feelings, feeling\n",
            "25 : serve_up, wracking, fashioning, figure_out, fictitious_character, fictional_character, fibre, fiber, feelings, feeling\n",
            "26 : suppose, wracking, fear, fearless, fearlessness, federal_agency, feel, feeling, feelings, fashioning\n",
            "27 : well, disposed, educated, off, heeled, wracking, feeling, fearlessness, federal_agency, feel\n",
            "28 : decide, wracking, fiber, fearless, fearlessness, federal_agency, feel, feeling, feelings, fibre\n",
            "29 : bias, wracking, fear, finality, final, figure_out, fictitious_character, fictional_character, fibre, fiber\n",
            "30 : horse_sense, wracking, feelings, fear, fearless, fearlessness, federal_agency, feel, feeling, fiber\n",
            "31 : integrity, feelings, fear, fearless, fearlessness, federal_agency, feel, feeling, wracking, find\n",
            "32 : stay, wracking, favorable, final, figure_out, fictitious_character, fictional_character, fibre, fiber, feelings\n",
            "33 : apprehension, wracking, favorable, final, figure_out, fictitious_character, fictional_character, fibre, fiber, feelings\n",
            "34 : smart, experience, ability, determination, people, workable, service, operative, basic, operant\n",
            "35 : stoppage, wracking, favorable, final, figure_out, fictitious_character, fictional_character, fibre, fiber, feelings\n",
            "36 : characterise, fear, find, finality, final, figure_out, fictitious_character, fictional_character, fibre, fiber\n",
            "37 : trustiness, wracking, feelings, fear, fearless, fearlessness, federal_agency, feel, feeling, fiber\n",
            "38 : gentle, feelings, fear, fearless, fearlessness, federal_agency, feel, feeling, wracking, fashioning\n",
            "39 : draw, wracking, fearless, fearlessness, federal_agency, feel, feeling, feelings, fiber, finding\n",
            "40 : word, wracking, feelings, fearless, fearlessness, federal_agency, feel, feeling, fiber, favorable\n",
            "41 : qualify, wracking, favorable, final, figure_out, fictitious_character, fictional_character, fibre, fiber, feelings\n",
            "42 : piece_of_work, wracking, fear, finality, final, figure_out, fictitious_character, fictional_character, fibre, fiber\n",
            "43 : equation, wracking, feeling, fear, fearless, fearlessness, federal_agency, feel, feelings, fashioning\n",
            "44 : allegiant, feelings, fear, fearless, fearlessness, federal_agency, feel, feeling, wracking, favorable\n",
            "45 : nice, wracking, fear, finality, final, figure_out, fictitious_character, fictional_character, fibre, fiber\n",
            "46 : humble, feeling, favorable, fear, fearless, fearlessness, federal_agency, feel, wracking, fashioning\n",
            "47 : experient, fiber, fearless, fearlessness, federal_agency, feel, feeling, feelings, wracking, favorable\n",
            "48 : sympathetic, fashioning, final, figure_out, fictitious_character, fictional_character, fibre, fiber, feelings, feeling\n",
            "49 : satin_flower, feelings, fear, fearless, fearlessness, federal_agency, feel, feeling, wracking, fashioning\n",
            "50 : bring_together, wracking, fear, finality, final, figure_out, fictitious_character, fictional_character, fibre, fiber\n",
            "51 : finish, wracking, favorable, final, figure_out, fictitious_character, fictional_character, fibre, fiber, feelings\n",
            "52 : do_work, wracking, feelings, fearless, fearlessness, federal_agency, feel, feeling, fiber, finding\n",
            "53 : diplomatist, fiber, fearless, fearlessness, federal_agency, feel, feeling, feelings, wracking, favorable\n",
            "54 : commodity, wracking, fear, finality, final, figure_out, fictitious_character, fictional_character, fibre, fiber\n",
            "55 : political_science, wracking, fear, finality, final, figure_out, fictitious_character, fictional_character, fibre, fiber\n",
            "56 : place, wracking, fear, finality, final, figure_out, fictitious_character, fictional_character, fibre, fiber\n",
            "57 : trusty, wracking, feelings, fear, fearless, fearlessness, federal_agency, feel, feeling, fiber\n",
            "58 : dedication, wracking, feelings, fearless, fearlessness, federal_agency, feel, feeling, fiber, finding\n",
            "59 : passiveness, wracking, feelings, fearless, fearlessness, federal_agency, feel, feeling, fiber, favorable\n",
            "60 : prejudice, wracking, feelings, fearless, fearlessness, federal_agency, feel, feeling, fiber, favorable\n",
            "61 : concern, wracking, feelings, fearless, fearlessness, federal_agency, feel, feeling, fiber, favorable\n",
            "62 : leader, wracking, feelings, fearless, fearlessness, federal_agency, feel, feeling, fiber, finding\n",
            "63 : squeamishness, wracking, favorable, final, figure_out, fictitious_character, fictional_character, fibre, fiber, feelings\n",
            "64 : dissimilarity, wracking, feelings, fearless, fearlessness, federal_agency, feel, feeling, fiber, finding\n",
            "65 : appealing, wracking, favorable, final, figure_out, fictitious_character, fictional_character, fibre, fiber, feelings\n",
            "66 : agreement, wracking, fiber, fearless, fearlessness, federal_agency, feel, feeling, feelings, fibre\n",
            "67 : articulation, feelings, fear, fearless, fearlessness, federal_agency, feel, feeling, wracking, fashioning\n",
            "68 : employment, wracking, favorable, final, figure_out, fictitious_character, fictional_character, fibre, fiber, feelings\n",
            "69 : prexy, favorable, finality, final, figure_out, fictitious_character, fictional_character, fibre, fiber, feelings\n",
            "70 : common_sense, wracking, fear, finality, final, figure_out, fictitious_character, fictional_character, fibre, fiber\n",
            "71 : political_scientist, wracking, fear, finality, final, figure_out, fictitious_character, fictional_character, fibre, fiber\n",
            "72 : idea, wracking, feeling, favorable, fear, fearless, fearlessness, federal_agency, feel, feelings\n",
            "73 : stratum, wracking, favorable, final, figure_out, fictitious_character, fictional_character, fibre, fiber, feelings\n",
            "74 : goodness, wracking, favorable, final, figure_out, fictitious_character, fictional_character, fibre, fiber, feelings\n",
            "75 : togetherness, wracking, favorable, final, figure_out, fictitious_character, fictional_character, fibre, fiber, feelings\n",
            "76 : tone, wracking, favorable, final, figure_out, fictitious_character, fictional_character, fibre, fiber, feelings\n",
            "77 : freshness, wracking, feelings, fear, fearless, fearlessness, federal_agency, feel, feeling, fiber\n",
            "78 : rare, wracking, fiber, fearless, fearlessness, federal_agency, feel, feeling, feelings, fibre\n",
            "79 : president, wracking, fiber, fearless, fearlessness, federal_agency, feel, feeling, feelings, fibre\n",
            "80 : clock, wracking, fear, finality, final, figure_out, fictitious_character, fictional_character, fibre, fiber\n",
            "81 : heat, fashioning, final, figure_out, fictitious_character, fictional_character, fibre, fiber, feelings, feeling\n",
            "82 : political_relation, wracking, fear, finality, final, figure_out, fictitious_character, fictional_character, fibre, fiber\n",
            "83 : comer, fear, find, finality, final, figure_out, fictitious_character, fictional_character, fibre, fiber\n",
            "84 : find, favorable, finality, final, figure_out, fictitious_character, fictional_character, fibre, fiber, feelings\n",
            "85 : chair, wracking, fiber, fearless, fearlessness, federal_agency, feel, feeling, feelings, fibre\n",
            "86 : loftiness, wracking, favorable, final, figure_out, fictitious_character, fictional_character, fibre, fiber, feelings\n",
            "87 : wellness, wracking, feelings, fearless, fearlessness, federal_agency, feel, feeling, fiber, finding\n",
            "88 : smooth, spoken, fashioning, figure_out, fictitious_character, fictional_character, fibre, fiber, feelings, feeling\n",
            "89 : site, wracking, feel, favorable, fear, fearless, fearlessness, federal_agency, feeling, fashion\n",
            "90 : calm, wracking, fear, finality, final, figure_out, fictitious_character, fictional_character, fibre, fiber\n",
            "91 : coital, wracking, fear, finality, final, figure_out, fictitious_character, fictional_character, fibre, fiber\n",
            "92 : chairman, wracking, fiber, fearless, fearlessness, federal_agency, feel, feeling, feelings, fibre\n",
            "93 : relation, wracking, feelings, fearless, fearlessness, federal_agency, feel, feeling, fiber, favorable\n",
            "94 : cohere, wracking, fear, finality, final, figure_out, fictitious_character, fictional_character, fibre, fiber\n",
            "95 : problem_solving, wracking, feelings, fear, fearless, fearlessness, federal_agency, feel, feeling, fiber\n",
            "96 : ulterior, wracking, feelings, fear, fearless, fearlessness, federal_agency, feel, feeling, fiber\n",
            "97 : promise, wracking, final, figure_out, fictitious_character, fictional_character, fibre, fiber, feelings, feeling\n",
            "98 : caution, wracking, fearless, fearlessness, federal_agency, feel, feeling, feelings, fiber, favorable\n",
            "99 : servant, wracking, fashioning, figure_out, fictitious_character, fictional_character, fibre, fiber, feelings, feeling\n",
            "100 : foot_race, wracking, favorable, final, figure_out, fictitious_character, fictional_character, fibre, fiber, feelings\n",
            "101 : ground, wracking, favorable, final, figure_out, fictitious_character, fictional_character, fibre, fiber, feelings\n",
            "102 : deliver, feelings, fear, fearless, fearlessness, federal_agency, feel, feeling, wracking, favorable\n",
            "103 : juncture, wracking, fiber, fearless, fearlessness, federal_agency, feel, feeling, feelings, fibre\n",
            "104 : inducement, wracking, fashioning, figure_out, fictitious_character, fictional_character, fibre, fiber, feelings, feeling\n",
            "105 : private, wracking, feelings, fear, fearless, fearlessness, federal_agency, feel, feeling, fiber\n",
            "106 : running, wracking, feelings, fear, fearless, fearlessness, federal_agency, feel, feeling, fiber\n",
            "107 : function, wracking, feelings, fear, fearless, fearlessness, federal_agency, feel, feeling, fiber\n",
            "108 : post, wracking, fear, finality, final, figure_out, fictitious_character, fictional_character, fibre, fiber\n",
            "109 : track, wracking, favorable, final, figure_out, fictitious_character, fictional_character, fibre, fiber, feelings\n",
            "110 : run, fashioning, final, figure_out, fictitious_character, fictional_character, fibre, fiber, feelings, feeling\n",
            "111 : cultured, feelings, fear, fearless, fearlessness, federal_agency, feel, feeling, wracking, favorable\n",
            "112 : advantageously, wracking, feelings, fearless, fearlessness, federal_agency, feel, feeling, fiber, finding\n",
            "113 : finesse, favorable, finality, final, figure_out, fictitious_character, fictional_character, fibre, fiber, feelings\n",
            "114 : layer, feelings, fear, fearless, fearlessness, federal_agency, feel, feeling, wracking, finding\n",
            "115 : reform, minded, final, figure_out, fictitious_character, fictional_character, fibre, fiber, fashioning, feeling\n",
            "116 : deal, wracking, fiber, fearless, fearlessness, federal_agency, feel, feeling, feelings, fibre\n",
            "117 : situation, feeling, favorable, fear, fearless, fearlessness, federal_agency, feel, wracking, fashion\n",
            "118 : honestness, wracking, fear, fearless, fearlessness, federal_agency, feel, feeling, feelings, fashioning\n",
            "119 : intimately, wracking, feeling, fear, fearless, fearlessness, federal_agency, feel, feelings, fashioning\n",
            "120 : kind, wracking, fiber, fearless, fearlessness, federal_agency, feel, feeling, feelings, fibre\n",
            "121 : consignment, wracking, feelings, fear, fearless, fearlessness, federal_agency, feel, feeling, fiber\n",
            "122 : organic_law, fear, find, finality, final, figure_out, fictitious_character, fictional_character, fibre, fiber\n",
            "123 : trusted, wracking, feelings, fear, fearless, fearlessness, federal_agency, feel, feeling, fiber\n",
            "124 : resolution, wracking, fiber, fearless, fearlessness, federal_agency, feel, feeling, feelings, fibre\n",
            "125 : agree, wracking, fearless, fearlessness, federal_agency, feel, feeling, feelings, fiber, finding\n",
            "126 : versed, wracking, fiber, fearless, fearlessness, federal_agency, feel, feeling, feelings, fibre\n",
            "127 : fountainhead, wracking, feelings, fear, fearless, fearlessness, federal_agency, feel, feeling, fiber\n",
            "128 : unitize, wracking, favorable, final, figure_out, fictitious_character, fictional_character, fibre, fiber, feelings\n",
            "129 : accordant, fiber, fearless, fearlessness, federal_agency, feel, feeling, feelings, wracking, favorable\n",
            "130 : substantially, fashioning, final, figure_out, fictitious_character, fictional_character, fibre, fiber, feelings, feeling\n",
            "131 : dependable, wracking, feelings, fearless, fearlessness, federal_agency, feel, feeling, fiber, favorable\n",
            "132 : gumption, wracking, favorable, final, figure_out, fictitious_character, fictional_character, fibre, fiber, feelings\n",
            "133 : work, wracking, fearless, fearlessness, federal_agency, feel, feeling, feelings, fiber, favorable\n",
            "134 : unattackable, wracking, feelings, fear, fearless, fearlessness, federal_agency, feel, feeling, fiber\n",
            "135 : purpose, wracking, favorable, final, figure_out, fictitious_character, fictional_character, fibre, fiber, feelings\n",
            "136 : negotiant, wracking, fear, finality, final, figure_out, fictitious_character, fictional_character, fibre, fiber\n",
            "137 : spot, wracking, favorable, final, figure_out, fictitious_character, fictional_character, fibre, fiber, feelings\n",
            "138 : evenness, wracking, fiber, fearless, fearlessness, federal_agency, feel, feeling, feelings, fibre\n",
            "139 : considerably, wracking, feelings, fear, fearless, fearlessness, federal_agency, feel, feeling, fiber\n",
            "140 : leveler, favorable, finality, final, figure_out, fictitious_character, fictional_character, fibre, fiber, feelings\n",
            "141 : relations, wracking, feelings, fearless, fearlessness, federal_agency, feel, feeling, fiber, favorable\n",
            "142 : proud, wracking, favorable, final, figure_out, fictitious_character, fictional_character, fibre, fiber, feelings\n",
            "143 : constitutionalize, wracking, feeling, fear, fearless, fearlessness, federal_agency, feel, feelings, fashioning\n",
            "144 : motivational, wracking, fear, finality, final, figure_out, fictitious_character, fictional_character, fibre, fiber\n",
            "145 : sensation, wracking, feelings, fear, fearless, fearlessness, federal_agency, feel, feeling, fiber\n",
            "146 : promiscuity, wracking, feeling, fear, fearless, fearlessness, federal_agency, feel, feelings, fashioning\n",
            "147 : scopal, wracking, feeling, fear, fearless, fearlessness, federal_agency, feel, feelings, fashioning\n",
            "148 : entirely, wracking, favorable, final, figure_out, fictitious_character, fictional_character, fibre, fiber, feelings\n",
            "149 : system, value, feelings, fear, fearless, fearlessness, federal_agency, feel, feeling, wracking\n",
            "150 : commitment, wracking, fear, finality, final, figure_out, fictitious_character, fictional_character, fibre, fiber\n",
            "151 : country, wracking, final, figure_out, fictitious_character, fictional_character, fibre, fiber, feelings, feeling\n",
            "152 : empathize, wracking, favorable, final, figure_out, fictitious_character, fictional_character, fibre, fiber, feelings\n",
            "153 : good_sense, wracking, favorable, final, figure_out, fictitious_character, fictional_character, fibre, fiber, feelings\n",
            "154 : horizontal_surface, wracking, feelings, fear, fearless, fearlessness, federal_agency, feel, feeling, fiber\n",
            "155 : easily, wracking, fiber, fearless, fearlessness, federal_agency, feel, feeling, feelings, fibre\n",
            "156 : swell, favorable, finality, final, figure_out, fictitious_character, fictional_character, fibre, fiber, feelings\n",
            "157 : tolerance, wracking, favorable, final, figure_out, fictitious_character, fictional_character, fibre, fiber, feelings\n",
            "158 : friend, wracking, feelings, fear, fearless, fearlessness, federal_agency, feel, feeling, fiber\n",
            "159 : learned, wracking, feelings, fearless, fearlessness, federal_agency, feel, feeling, fiber, finding\n",
            "160 : eloquent, wracking, favorable, final, figure_out, fictitious_character, fictional_character, fibre, fiber, feelings\n",
            "161 : diffuse, favorable, finality, final, figure_out, fictitious_character, fictional_character, fibre, fiber, feelings\n",
            "162 : characteristic, wracking, fiber, fearless, fearlessness, federal_agency, feel, feeling, feelings, fibre\n",
            "163 : conclude, wracking, feelings, fearless, fearlessness, federal_agency, feel, feeling, fiber, favorable\n",
            "164 : power, wracking, fear, finality, final, figure_out, fictitious_character, fictional_character, fibre, fiber\n",
            "165 : progressive, wracking, feeling, fear, fearless, fearlessness, federal_agency, feel, feelings, fashioning\n",
            "166 : personhood, wracking, fear, finality, final, figure_out, fictitious_character, fictional_character, fibre, fiber\n",
            "167 : presidential, favorable, finality, final, figure_out, fictitious_character, fictional_character, fibre, fiber, feelings\n",
            "168 : ethical, wracking, feelings, fear, fearless, fearlessness, federal_agency, feel, feeling, fiber\n",
            "169 : individual, wracking, fashioning, figure_out, fictitious_character, fictional_character, fibre, fiber, feelings, feeling\n",
            "170 : goal, wracking, favorable, final, figure_out, fictitious_character, fictional_character, fibre, fiber, feelings\n",
            "171 : equanimous, fashioning, final, figure_out, fictitious_character, fictional_character, fibre, fiber, feelings, feeling\n",
            "172 : secure, feeling, favorable, fear, fearless, fearlessness, federal_agency, feel, feelings, find\n",
            "173 : unanimous, wracking, feelings, fear, fearless, fearlessness, federal_agency, feel, feeling, fiber\n",
            "174 : invocation, wracking, feeling, fear, fearless, fearlessness, federal_agency, feel, feelings, fashioning\n",
            "175 : reality, wracking, feelings, fearless, fearlessness, federal_agency, feel, feeling, fiber, finding\n",
            "176 : flock, wracking, favorable, final, figure_out, fictitious_character, fictional_character, fibre, fiber, feelings\n",
            "177 : commonwealth, wracking, fear, finality, final, figure_out, fictitious_character, fictional_character, fibre, fiber\n",
            "178 : fixed, well, wracking, feelings, fearless, fearlessness, federal_agency, feel, feeling, fiber\n",
            "179 : sympathize, wracking, fiber, fearless, fearlessness, federal_agency, feel, feeling, feelings, fibre\n",
            "180 : conclusion, wracking, fearless, fearlessness, federal_agency, feel, feeling, feelings, fiber, favorable\n",
            "181 : unity, wracking, favorable, final, figure_out, fictitious_character, fictional_character, fibre, fiber, feelings\n",
            "182 : characterize, wracking, fiber, fearless, fearlessness, federal_agency, feel, feeling, feelings, fibre\n",
            "183 : link, wracking, favorable, final, figure_out, fictitious_character, fictional_character, fibre, fiber, feelings\n",
            "184 : tonal, wracking, favorable, final, figure_out, fictitious_character, fictional_character, fibre, fiber, feelings\n",
            "185 : cruciality, wracking, favorable, final, figure_out, fictitious_character, fictional_character, fibre, fiber, feelings\n",
            "186 : president_of_the_united_states, wracking, fiber, fearless, fearlessness, federal_agency, feel, feeling, feelings, fibre\n",
            "187 : reliable, wracking, feelings, fearless, fearlessness, federal_agency, feel, feeling, fiber, favorable\n",
            "188 : whole, wracking, feelings, fearless, fearlessness, federal_agency, feel, feeling, fiber, finding\n",
            "189 : lead, wracking, feelings, fearless, fearlessness, federal_agency, feel, feeling, fiber, finding\n",
            "190 : flabbiness, wracking, favorable, final, figure_out, fictitious_character, fictional_character, fibre, fiber, feelings\n",
            "191 : _constitution, favorable, finality, final, figure_out, fictitious_character, fictional_character, fibre, fiber, feelings\n",
            "192 : induction, wracking, feelings, fear, fearless, fearlessness, federal_agency, feel, feeling, fiber\n",
            "193 : trustworthy, wracking, feelings, fear, fearless, fearlessness, federal_agency, feel, feeling, fiber\n",
            "194 : wholeness, feelings, fear, fearless, fearlessness, federal_agency, feel, feeling, wracking, finding\n",
            "195 : servitor, wracking, fashioning, figure_out, fictitious_character, fictional_character, fibre, fiber, feelings, feeling\n",
            "196 : liberalist, wracking, favorable, final, figure_out, fictitious_character, fictional_character, fibre, fiber, feelings\n",
            "197 : working, wracking, fiber, fearless, fearlessness, federal_agency, feel, feeling, feelings, fibre\n",
            "198 : atomic_number_92, wracking, feelings, fear, fearless, fearlessness, federal_agency, feel, feeling, fiber\n",
            "199 : prepossess, wracking, fiber, fearless, fearlessness, federal_agency, feel, feeling, feelings, fibre\n",
            "200 : easiness, wracking, fiber, fearless, fearlessness, federal_agency, feel, feeling, feelings, fibre\n",
            "201 : uranium, wracking, favorable, final, figure_out, fictitious_character, fictional_character, fibre, fiber, feelings\n",
            "202 : appeals, wracking, favorable, final, figure_out, fictitious_character, fictional_character, fibre, fiber, feelings\n",
            "203 : uracil, wracking, favorable, final, figure_out, fictitious_character, fictional_character, fibre, fiber, feelings\n",
            "204 : timing, feelings, fear, fearless, fearlessness, federal_agency, feel, feeling, wracking, favorable\n",
            "205 : up_to, wracking, favorable, final, figure_out, fictitious_character, fictional_character, fibre, fiber, feelings\n",
            "206 : via_media, wracking, fiber, fearless, fearlessness, federal_agency, feel, feeling, feelings, fibre\n",
            "207 : different, favorable, finality, final, figure_out, fictitious_character, fictional_character, fibre, fiber, feelings\n",
            "208 : abidance, wracking, fiber, fearless, fearlessness, federal_agency, feel, feeling, feelings, fibre\n",
            "209 : capability, wracking, feelings, fearless, fearlessness, federal_agency, feel, feeling, fiber, favorable\n",
            "210 : personify, wracking, fear, finality, final, figure_out, fictitious_character, fictional_character, fibre, fiber\n",
            "211 : smartness, feeling, favorable, fear, fearless, fearlessness, federal_agency, feel, wracking, fashioning\n",
            "212 : motivate, wracking, fear, finality, final, figure_out, fictitious_character, fictional_character, fibre, fiber\n",
            "213 : fluent, wracking, favorable, final, figure_out, fictitious_character, fictional_character, fibre, fiber, feelings\n",
            "214 : dissimilar, feelings, fear, fearless, fearlessness, federal_agency, feel, feeling, wracking, finding\n",
            "215 : chief_executive, wracking, feelings, fearless, fearlessness, federal_agency, feel, feeling, fiber, favorable\n",
            "216 : flatness, wracking, favorable, final, figure_out, fictitious_character, fictional_character, fibre, fiber, feelings\n",
            "217 : distributer, wracking, feelings, fearless, fearlessness, federal_agency, feel, feeling, fiber, finding\n",
            "218 : diplomatic, wracking, fiber, fearless, fearlessness, federal_agency, feel, feeling, feelings, fibre\n",
            "219 : conjunctive, favorable, finality, final, figure_out, fictitious_character, fictional_character, fibre, fiber, feelings\n",
            "220 : test, feelings, fear, fearless, fearlessness, federal_agency, feel, feeling, wracking, finding\n",
            "221 : morality, wracking, fear, finality, final, figure_out, fictitious_character, fictional_character, fibre, fiber\n",
            "222 : courteous, wracking, favorable, final, figure_out, fictitious_character, fictional_character, fibre, fiber, feelings\n",
            "223 : induce, wracking, fashioning, figure_out, fictitious_character, fictional_character, fibre, fiber, feelings, feeling\n",
            "224 : substantial, wracking, final, figure_out, fictitious_character, fictional_character, fibre, fiber, feelings, feeling\n",
            "225 : ideal, wracking, feeling, favorable, fear, fearless, fearlessness, federal_agency, feel, feelings\n",
            "226 : certainly, wracking, fiber, fearless, fearlessness, federal_agency, feel, feeling, feelings, fibre\n",
            "227 : real, wracking, fearless, fearlessness, federal_agency, feel, feeling, feelings, fiber, finding\n",
            "228 : mortal, wracking, fear, finality, final, figure_out, fictitious_character, fictional_character, fibre, fiber\n",
            "229 : progressivity, wracking, feeling, fear, fearless, fearlessness, federal_agency, feel, feelings, fashioning\n",
            "230 : reformist, feelings, fear, fearless, fearlessness, federal_agency, feel, feeling, wracking, favorable\n",
            "231 : heady, wracking, favorable, final, figure_out, fictitious_character, fictional_character, fibre, fiber, feelings\n",
            "232 : decisive, wracking, feelings, fearless, fearlessness, federal_agency, feel, feeling, fiber, finding\n",
            "233 : unitedly, wracking, favorable, final, figure_out, fictitious_character, fictional_character, fibre, fiber, feelings\n",
            "234 : immensity, wracking, feel, favorable, fear, fearless, fearlessness, federal_agency, feeling, fashion\n",
            "235 : prediction, wracking, feelings, fearless, fearlessness, federal_agency, feel, feeling, fiber, favorable\n",
            "236 : rest, wracking, fiber, fearless, fearlessness, federal_agency, feel, feeling, feelings, fibre\n",
            "237 : sensor, fashioning, final, figure_out, fictitious_character, fictional_character, fibre, fiber, feelings, feeling\n",
            "238 : determine, wracking, fiber, fearless, fearlessness, federal_agency, feel, feeling, feelings, fibre\n",
            "239 : case, item, by, wracking, fiber, fearlessness, federal_agency, feel, feeling, feelings\n",
            "240 : process, wracking, fear, fearless, fearlessness, federal_agency, feel, feeling, feelings, fashioning\n",
            "241 : discernment, wracking, feelings, fearless, fearlessness, federal_agency, feel, feeling, fiber, favorable\n",
            "242 : care, wracking, feelings, fearless, fearlessness, federal_agency, feel, feeling, fiber, favorable\n",
            "243 : decent, wracking, fiber, fearless, fearlessness, federal_agency, feel, feeling, feelings, fibre\n",
            "244 : county, wracking, favorable, final, figure_out, fictitious_character, fictional_character, fibre, fiber, feelings\n",
            "245 : read, well, feelings, fearless, fearlessness, federal_agency, feel, feeling, wracking, favorable\n",
            "246 : government_agency, wracking, favorable, final, figure_out, fictitious_character, fictional_character, fibre, fiber, feelings\n",
            "247 : prejudices, wracking, feelings, fearless, fearlessness, federal_agency, feel, feeling, fiber, favorable\n",
            "248 : chairwoman, fear, find, finality, final, figure_out, fictitious_character, fictional_character, fibre, fiber\n",
            "249 : beneficial, wracking, fear, finality, final, figure_out, fictitious_character, fictional_character, fibre, fiber\n",
            "250 : teamwork, wracking, feelings, fearless, fearlessness, federal_agency, feel, feeling, fiber, favorable\n",
            "251 : just, wracking, fiber, fearless, fearlessness, federal_agency, feel, feeling, feelings, fibre\n",
            "252 : goals, wracking, favorable, final, figure_out, fictitious_character, fictional_character, fibre, fiber, feelings\n",
            "253 : opinion, wracking, fiber, fearless, fearlessness, federal_agency, feel, feeling, feelings, fibre\n",
            "254 : arrival, wracking, feeling, fear, fearless, fearlessness, federal_agency, feel, feelings, fashioning\n",
            "255 : dedicate, wracking, feelings, fearless, fearlessness, federal_agency, feel, feeling, fiber, finding\n",
            "256 : billet, wracking, fear, finality, final, figure_out, fictitious_character, fictional_character, fibre, fiber\n",
            "257 : unscathed, wracking, favorable, final, figure_out, fictitious_character, fictional_character, fibre, fiber, feelings\n",
            "258 : honesty, feelings, fear, fearless, fearlessness, federal_agency, feel, feeling, wracking, fashioning\n",
            "259 : great_deal, wracking, favorable, final, figure_out, fictitious_character, fictional_character, fibre, fiber, feelings\n",
            "260 : feelings, wracking, favorable, finality, final, figure_out, fictitious_character, fictional_character, fibre, fiber\n",
            "261 : sureness, wracking, feelings, fear, fearless, fearlessness, federal_agency, feel, feeling, fiber\n",
            "262 : decisiveness, wracking, feelings, fearless, fearlessness, federal_agency, feel, feeling, fiber, finding\n",
            "263 : leadership, wracking, feelings, fearless, fearlessness, federal_agency, feel, feeling, fiber, finding\n",
            "264 : chairperson, wracking, fiber, fearless, fearlessness, federal_agency, feel, feeling, feelings, fibre\n",
            "265 : essentialness, wracking, fear, fearless, fearlessness, federal_agency, feel, feeling, feelings, fashioning\n",
            "266 : preside, wracking, fiber, fearless, fearlessness, federal_agency, feel, feeling, feelings, fibre\n",
            "267 : presidency, wracking, fiber, fearless, fearlessness, federal_agency, feel, feeling, feelings, fibre\n",
            "268 : subterraneous, wracking, feeling, fear, fearless, fearlessness, federal_agency, feel, feelings, fashioning\n",
            "269 : realize, wracking, feelings, fearless, fearlessness, federal_agency, feel, feeling, fiber, finding\n",
            "270 : trade_good, wracking, favorable, final, figure_out, fictitious_character, fictional_character, fibre, fiber, feelings\n",
            "271 : acquisition, feelings, fear, fearless, fearlessness, federal_agency, feel, feeling, wracking, favorable\n",
            "272 : honest, wracking, feeling, fear, fearless, fearlessness, federal_agency, feel, feelings, fashioning\n",
            "273 : area, fashioning, final, figure_out, fictitious_character, fictional_character, fibre, fiber, feelings, feeling\n",
            "274 : finding, favorable, finality, final, figure_out, fictitious_character, fictional_character, fibre, fiber, feelings\n",
            "275 : united_states_president, wracking, favorable, final, figure_out, fictitious_character, fictional_character, fibre, fiber, feelings\n",
            "276 : passion, fiber, fearless, fearlessness, federal_agency, feel, feeling, feelings, wracking, favorable\n",
            "277 : lunaria_annua, wracking, feelings, fear, fearless, fearlessness, federal_agency, feel, feeling, fiber\n",
            "278 : sensory_faculty, fashioning, final, figure_out, fictitious_character, fictional_character, fibre, fiber, feelings, feeling\n",
            "279 : equality, wracking, favorable, final, figure_out, fictitious_character, fictional_character, fibre, fiber, feelings\n",
            "280 : knowledgeability, wracking, feelings, fearless, fearlessness, federal_agency, feel, feeling, fiber, favorable\n",
            "281 : satinpod, wracking, fear, fearless, fearlessness, federal_agency, feel, feeling, feelings, fashioning\n",
            "282 : res_publica, wracking, fiber, fearless, fearlessness, federal_agency, feel, feeling, feelings, fibre\n",
            "283 : consider, favorable, finality, final, figure_out, fictitious_character, fictional_character, fibre, fiber, feelings\n",
            "284 : serve, wracking, fashioning, figure_out, fictitious_character, fictional_character, fibre, fiber, feelings, feeling\n",
            "285 : honorableness, wracking, feelings, fear, fearless, fearlessness, federal_agency, feel, feeling, fiber\n",
            "286 : potent, wracking, fear, finality, final, figure_out, fictitious_character, fictional_character, fibre, fiber\n",
            "287 : balm, wracking, feelings, fearless, fearlessness, federal_agency, feel, feeling, fiber, favorable\n",
            "288 : passionateness, wracking, feelings, fearless, fearlessness, federal_agency, feel, feeling, fiber, favorable\n",
            "289 : derivation, wracking, feelings, fearless, fearlessness, federal_agency, feel, feeling, fiber, favorable\n",
            "290 : judiciousness, fashioning, final, figure_out, fictitious_character, fictional_character, fibre, fiber, feelings, feeling\n",
            "291 : wellspring, wracking, feelings, fearless, fearlessness, federal_agency, feel, feeling, fiber, finding\n",
            "292 : get, wracking, feeling, fear, fearless, fearlessness, federal_agency, feel, feelings, fashioning\n",
            "293 : streak, wracking, favorable, final, figure_out, fictitious_character, fictional_character, fibre, fiber, feelings\n",
            "294 : thought, fiber, fearless, fearlessness, federal_agency, feel, feeling, feelings, wracking, finding\n",
            "295 : ravel, wracking, fiber, fearless, fearlessness, federal_agency, feel, feeling, feelings, fibre\n",
            "296 : decision, fiber, fearless, fearlessness, federal_agency, feel, feeling, feelings, wracking, finding\n",
            "297 : theme, wracking, feelings, fearless, fearlessness, federal_agency, feel, feeling, fiber, finding\n",
            "298 : body_politic, wracking, fear, finality, final, figure_out, fictitious_character, fictional_character, fibre, fiber\n",
            "299 : lot, wracking, feeling, fear, fearless, fearlessness, federal_agency, feel, feelings, fashioning\n"
          ]
        }
      ]
    },
    {
      "cell_type": "code",
      "metadata": {
        "colab": {
          "base_uri": "https://localhost:8080/"
        },
        "id": "4vmhJXnBNlN7",
        "outputId": "9d8b7e44-0e67-4810-a627-abb7014df2fa"
      },
      "source": [
        "kmeans.score(vec_text)"
      ],
      "execution_count": null,
      "outputs": [
        {
          "output_type": "execute_result",
          "data": {
            "text/plain": [
              "-1672.3455444138672"
            ]
          },
          "metadata": {},
          "execution_count": 114
        }
      ]
    },
    {
      "cell_type": "markdown",
      "metadata": {
        "id": "4WtZ490Sw_Yb"
      },
      "source": [
        "## Experiment 7 - Implementing a kind of WSD using definitions of the words in question to obtain a context for choosing words from our vocabulary"
      ]
    },
    {
      "cell_type": "code",
      "metadata": {
        "id": "zjCC4YrRU616"
      },
      "source": [
        "ques = data.cell_value(0, 0).lower()\n",
        "ques_tokens = tokenizer.tokenize(ques)\n",
        "for i in range(len(ques_tokens)-1):\n",
        "  t = str(ques_tokens[i]+'_'+ques_tokens[i+1])\n",
        "  if wn.synsets(t):\n",
        "    ques_tokens.append(t)\n",
        "\n",
        "dict_ques = []\n",
        "for i in range(len(ques_tokens)):\n",
        "  t = str(ques_tokens[i])\n",
        "  if wn.synsets(t):\n",
        "    syn = wn.synsets(t)\n",
        "    for j in range(len(syn)):\n",
        "      dict_ques.append(str(syn[j].definition()))\n",
        "\n",
        "for i in dict_ques:\n",
        "  tokens = tokenizer.tokenize(str(dict_ques))\n",
        "  for j in tokens:\n",
        "    syn2 = wn.synsets(j)\n",
        "\n",
        "    if syn2!=[] and j not in stopwords.words('english'):\n",
        "      if j not in ques_tokens:\n",
        "        if syn2[0].pos() in ['n','a','s']:\n",
        "          ques_tokens.append(j)\n",
        "\n",
        "for i in range(len(ques_tokens)-1):\n",
        "  t = str(ques_tokens[i]+'_'+ques_tokens[i+1])\n",
        "  if wn.synsets(t) and t not in ques_tokens:\n",
        "    ques_tokens.append(t)\n",
        "\n",
        "temp_arr = []\n",
        "for i in ques_tokens:\n",
        "  if wn.synsets(i) == []:\n",
        "    temp_arr.append(i)\n",
        "\n",
        "for i in temp_arr:\n",
        "  ques_tokens.remove(i)"
      ],
      "execution_count": null,
      "outputs": []
    },
    {
      "cell_type": "code",
      "metadata": {
        "id": "mi10s-Lim5M0"
      },
      "source": [
        "sim_q_list = []\n",
        "for i in vocab:\n",
        "  syn1 = wordnet.synsets(i)[0]\n",
        "  t = 0\n",
        "  for j in ques_tokens:\n",
        "    syn2 = wordnet.synsets(j)[0]\n",
        "    temp = syn1.wup_similarity(syn2)\n",
        "    if temp == None:\n",
        "      temp = 0\n",
        "    t = t + temp\n",
        "  sim_q_list.append([i,t/len(ques_tokens)])\n",
        "\n",
        "sim_q_list_sorted = sorted(sim_q_list, key=lambda x: x[1])\n",
        "sim_q_list_sorted.reverse()"
      ],
      "execution_count": null,
      "outputs": []
    },
    {
      "cell_type": "code",
      "metadata": {
        "colab": {
          "base_uri": "https://localhost:8080/"
        },
        "id": "YY2cJSFzM6tK",
        "outputId": "e9947272-bb93-48d4-d59e-cfb41cf5cab6"
      },
      "source": [
        "predicted_words = []\n",
        "for i in range(10):\n",
        "  predicted_words.append(sim_q_list[i][0])\n",
        "\n",
        "score(predicted_words)"
      ],
      "execution_count": null,
      "outputs": [
        {
          "data": {
            "text/plain": [
              "1.0429028182090812"
            ]
          },
          "execution_count": 95,
          "metadata": {},
          "output_type": "execute_result"
        }
      ]
    },
    {
      "cell_type": "code",
      "metadata": {
        "colab": {
          "base_uri": "https://localhost:8080/",
          "height": 357
        },
        "id": "4MOTdLt5tUZa",
        "outputId": "30cdb265-802b-4948-e9b3-78c5ab32554c"
      },
      "source": [
        "pd.DataFrame(sim_q_list_sorted, columns =['word', 'sim score']).head(10)"
      ],
      "execution_count": null,
      "outputs": [
        {
          "data": {
            "text/html": [
              "<div>\n",
              "<style scoped>\n",
              "    .dataframe tbody tr th:only-of-type {\n",
              "        vertical-align: middle;\n",
              "    }\n",
              "\n",
              "    .dataframe tbody tr th {\n",
              "        vertical-align: top;\n",
              "    }\n",
              "\n",
              "    .dataframe thead th {\n",
              "        text-align: right;\n",
              "    }\n",
              "</style>\n",
              "<table border=\"1\" class=\"dataframe\">\n",
              "  <thead>\n",
              "    <tr style=\"text-align: right;\">\n",
              "      <th></th>\n",
              "      <th>word</th>\n",
              "      <th>sim score</th>\n",
              "    </tr>\n",
              "  </thead>\n",
              "  <tbody>\n",
              "    <tr>\n",
              "      <th>0</th>\n",
              "      <td>knowledge</td>\n",
              "      <td>0.360836</td>\n",
              "    </tr>\n",
              "    <tr>\n",
              "      <th>1</th>\n",
              "      <td>promises</td>\n",
              "      <td>0.350159</td>\n",
              "    </tr>\n",
              "    <tr>\n",
              "      <th>2</th>\n",
              "      <td>motives</td>\n",
              "      <td>0.333938</td>\n",
              "    </tr>\n",
              "    <tr>\n",
              "      <th>3</th>\n",
              "      <td>ideas</td>\n",
              "      <td>0.332436</td>\n",
              "    </tr>\n",
              "    <tr>\n",
              "      <th>4</th>\n",
              "      <td>stay</td>\n",
              "      <td>0.328179</td>\n",
              "    </tr>\n",
              "    <tr>\n",
              "      <th>5</th>\n",
              "      <td>goals</td>\n",
              "      <td>0.326338</td>\n",
              "    </tr>\n",
              "    <tr>\n",
              "      <th>6</th>\n",
              "      <td>groups</td>\n",
              "      <td>0.312064</td>\n",
              "    </tr>\n",
              "    <tr>\n",
              "      <th>7</th>\n",
              "      <td>achievement</td>\n",
              "      <td>0.311737</td>\n",
              "    </tr>\n",
              "    <tr>\n",
              "      <th>8</th>\n",
              "      <td>leadership</td>\n",
              "      <td>0.311121</td>\n",
              "    </tr>\n",
              "    <tr>\n",
              "      <th>9</th>\n",
              "      <td>work</td>\n",
              "      <td>0.311121</td>\n",
              "    </tr>\n",
              "  </tbody>\n",
              "</table>\n",
              "</div>"
            ],
            "text/plain": [
              "          word  sim score\n",
              "0    knowledge   0.360836\n",
              "1     promises   0.350159\n",
              "2      motives   0.333938\n",
              "3        ideas   0.332436\n",
              "4         stay   0.328179\n",
              "5        goals   0.326338\n",
              "6       groups   0.312064\n",
              "7  achievement   0.311737\n",
              "8   leadership   0.311121\n",
              "9         work   0.311121"
            ]
          },
          "execution_count": 93,
          "metadata": {},
          "output_type": "execute_result"
        }
      ]
    },
    {
      "cell_type": "code",
      "metadata": {
        "colab": {
          "base_uri": "https://localhost:8080/",
          "height": 357
        },
        "id": "PcaXxI-Ru3r1",
        "outputId": "741319df-f6a0-4f12-bcbc-c5c770405fd7"
      },
      "source": [
        "pd.DataFrame(sim_q_list_sorted, columns =['word', 'sim score']).tail(10)"
      ],
      "execution_count": null,
      "outputs": [
        {
          "data": {
            "text/html": [
              "<div>\n",
              "<style scoped>\n",
              "    .dataframe tbody tr th:only-of-type {\n",
              "        vertical-align: middle;\n",
              "    }\n",
              "\n",
              "    .dataframe tbody tr th {\n",
              "        vertical-align: top;\n",
              "    }\n",
              "\n",
              "    .dataframe thead th {\n",
              "        text-align: right;\n",
              "    }\n",
              "</style>\n",
              "<table border=\"1\" class=\"dataframe\">\n",
              "  <thead>\n",
              "    <tr style=\"text-align: right;\">\n",
              "      <th></th>\n",
              "      <th>word</th>\n",
              "      <th>sim score</th>\n",
              "    </tr>\n",
              "  </thead>\n",
              "  <tbody>\n",
              "    <tr>\n",
              "      <th>108</th>\n",
              "      <td>agreeable</td>\n",
              "      <td>0.0</td>\n",
              "    </tr>\n",
              "    <tr>\n",
              "      <th>109</th>\n",
              "      <td>knowledgeable</td>\n",
              "      <td>0.0</td>\n",
              "    </tr>\n",
              "    <tr>\n",
              "      <th>110</th>\n",
              "      <td>proud</td>\n",
              "      <td>0.0</td>\n",
              "    </tr>\n",
              "    <tr>\n",
              "      <th>111</th>\n",
              "      <td>peaceful</td>\n",
              "      <td>0.0</td>\n",
              "    </tr>\n",
              "    <tr>\n",
              "      <th>112</th>\n",
              "      <td>crucial</td>\n",
              "      <td>0.0</td>\n",
              "    </tr>\n",
              "    <tr>\n",
              "      <th>113</th>\n",
              "      <td>capable</td>\n",
              "      <td>0.0</td>\n",
              "    </tr>\n",
              "    <tr>\n",
              "      <th>114</th>\n",
              "      <td>logical</td>\n",
              "      <td>0.0</td>\n",
              "    </tr>\n",
              "    <tr>\n",
              "      <th>115</th>\n",
              "      <td>eloquent</td>\n",
              "      <td>0.0</td>\n",
              "    </tr>\n",
              "    <tr>\n",
              "      <th>116</th>\n",
              "      <td>confident</td>\n",
              "      <td>0.0</td>\n",
              "    </tr>\n",
              "    <tr>\n",
              "      <th>117</th>\n",
              "      <td>sure</td>\n",
              "      <td>0.0</td>\n",
              "    </tr>\n",
              "  </tbody>\n",
              "</table>\n",
              "</div>"
            ],
            "text/plain": [
              "              word  sim score\n",
              "108      agreeable        0.0\n",
              "109  knowledgeable        0.0\n",
              "110          proud        0.0\n",
              "111       peaceful        0.0\n",
              "112        crucial        0.0\n",
              "113        capable        0.0\n",
              "114        logical        0.0\n",
              "115       eloquent        0.0\n",
              "116      confident        0.0\n",
              "117           sure        0.0"
            ]
          },
          "execution_count": 94,
          "metadata": {},
          "output_type": "execute_result"
        }
      ]
    }
  ]
}